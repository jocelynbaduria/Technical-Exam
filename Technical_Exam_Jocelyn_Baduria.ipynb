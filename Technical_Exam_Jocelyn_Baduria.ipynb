{
  "nbformat": 4,
  "nbformat_minor": 0,
  "metadata": {
    "colab": {
      "provenance": [],
      "mount_file_id": "1lHEd1xsrGXBHj_Kp3l5mwAORJD3mzq-q",
      "authorship_tag": "ABX9TyNdxLfHesJ0pDluf9Qn0cuE",
      "include_colab_link": true
    },
    "kernelspec": {
      "name": "python3",
      "display_name": "Python 3"
    },
    "language_info": {
      "name": "python"
    }
  },
  "cells": [
    {
      "cell_type": "markdown",
      "metadata": {
        "id": "view-in-github",
        "colab_type": "text"
      },
      "source": [
        "<a href=\"https://colab.research.google.com/github/jocelynbaduria/Technical-Exam/blob/main/Technical_Exam_Jocelyn_Baduria.ipynb\" target=\"_parent\"><img src=\"https://colab.research.google.com/assets/colab-badge.svg\" alt=\"Open In Colab\"/></a>"
      ]
    },
    {
      "cell_type": "code",
      "source": [
        "!pip install datatable"
      ],
      "metadata": {
        "colab": {
          "base_uri": "https://localhost:8080/"
        },
        "id": "8J8F3tmTFlUK",
        "outputId": "96342093-cfee-439a-82c0-dcaaa79da51d"
      },
      "execution_count": 707,
      "outputs": [
        {
          "output_type": "stream",
          "name": "stdout",
          "text": [
            "Requirement already satisfied: datatable in /usr/local/lib/python3.10/dist-packages (1.1.0)\n"
          ]
        }
      ]
    },
    {
      "cell_type": "code",
      "execution_count": 708,
      "metadata": {
        "id": "QIxYpmlVom8A"
      },
      "outputs": [],
      "source": [
        "import numpy as np\n",
        "import matplotlib.pyplot as plt\n",
        "import pandas as pd\n",
        "import datatable as dt\n",
        "from sklearn.feature_extraction.text import TfidfVectorizer\n",
        "from sklearn.naive_bayes import MultinomialNB\n",
        "from sklearn.naive_bayes import GaussianNB\n",
        "from sklearn.pipeline import make_pipeline"
      ]
    },
    {
      "cell_type": "code",
      "source": [
        "DT = dt.fread('/content/drive/MyDrive/Technical Exam - Senior AI Machine Learning Engineer (2).zip (Unzipped Files)/sentiment_test_cases_1.csv')"
      ],
      "metadata": {
        "id": "3b5NOrAZGCS2"
      },
      "execution_count": 709,
      "outputs": []
    },
    {
      "cell_type": "code",
      "source": [
        "data_pd = DT.to_pandas()"
      ],
      "metadata": {
        "id": "ULT3lqd9GHqQ"
      },
      "execution_count": 710,
      "outputs": []
    },
    {
      "cell_type": "code",
      "source": [
        "#Convert the csv file into pandas dataframe\n",
        "DT.head()"
      ],
      "metadata": {
        "colab": {
          "base_uri": "https://localhost:8080/",
          "height": 293
        },
        "id": "7_5YGALnGO7A",
        "outputId": "cd7fef42-0725-4c65-887f-79b1de8ce643"
      },
      "execution_count": 711,
      "outputs": [
        {
          "output_type": "execute_result",
          "data": {
            "text/plain": [
              "<Frame#7e41fc31b0f0 10x2>"
            ],
            "text/html": [
              "<div class='datatable'>\n",
              "  <table class='frame'>\n",
              "  <thead>\n",
              "    <tr class='colnames'><td class='row_index'></td><th>expected_sentiment</th><th>text</th></tr>\n",
              "    <tr class='coltypes'><td class='row_index'></td><td class='str' title='str32'>&#x25AA;&#x25AA;&#x25AA;&#x25AA;</td><td class='str' title='str32'>&#x25AA;&#x25AA;&#x25AA;&#x25AA;</td></tr>\n",
              "  </thead>\n",
              "  <tbody>\n",
              "    <tr><td class='row_index'>0</td><td>positive</td><td>@stellargirl I loooooooovvvvvveee my Kindle2. Not that the DX is cool, but the 2 is fantastic in its&#133;</td></tr>\n",
              "    <tr><td class='row_index'>1</td><td>positive</td><td>Reading my kindle2...  Love it... Lee childs is good read.</td></tr>\n",
              "    <tr><td class='row_index'>2</td><td>positive</td><td>Ok, first assesment of the #kindle2 ...it fucking rocks!!!</td></tr>\n",
              "    <tr><td class='row_index'>3</td><td>positive</td><td>@kenburbary You'll love your Kindle2. I've had mine for a few months and never looked back. The new &#133;</td></tr>\n",
              "    <tr><td class='row_index'>4</td><td>positive</td><td>@mikefish  Fair enough. But i have the Kindle2 and I think it's perfect  :)</td></tr>\n",
              "    <tr><td class='row_index'>5</td><td>positive</td><td>@richardebaker no. it is too big. I'm quite happy with the Kindle2.</td></tr>\n",
              "    <tr><td class='row_index'>6</td><td>negative</td><td>Fuck this economy. I hate aig and their non loan given asses.</td></tr>\n",
              "    <tr><td class='row_index'>7</td><td>positive</td><td>Jquery is my new best friend.</td></tr>\n",
              "    <tr><td class='row_index'>8</td><td>positive</td><td>Loves twitter</td></tr>\n",
              "    <tr><td class='row_index'>9</td><td>positive</td><td>how can you not love Obama? he makes jokes about himself.</td></tr>\n",
              "  </tbody>\n",
              "  </table>\n",
              "  <div class='footer'>\n",
              "    <div class='frame_dimensions'>10 rows &times; 2 columns</div>\n",
              "  </div>\n",
              "</div>\n"
            ]
          },
          "metadata": {},
          "execution_count": 711
        }
      ]
    },
    {
      "cell_type": "code",
      "source": [
        "data_pd.head()"
      ],
      "metadata": {
        "colab": {
          "base_uri": "https://localhost:8080/",
          "height": 206
        },
        "id": "wWc3KfowGWyw",
        "outputId": "6a514bca-289c-4149-ecdb-be53bcca5f74"
      },
      "execution_count": 712,
      "outputs": [
        {
          "output_type": "execute_result",
          "data": {
            "text/plain": [
              "  expected_sentiment                                               text\n",
              "0           positive  @stellargirl I loooooooovvvvvveee my Kindle2. ...\n",
              "1           positive  Reading my kindle2...  Love it... Lee childs i...\n",
              "2           positive  Ok, first assesment of the #kindle2 ...it fuck...\n",
              "3           positive  @kenburbary You'll love your Kindle2. I've had...\n",
              "4           positive  @mikefish  Fair enough. But i have the Kindle2..."
            ],
            "text/html": [
              "\n",
              "  <div id=\"df-73ac7e83-52d3-4279-bcf5-189eca6d726c\" class=\"colab-df-container\">\n",
              "    <div>\n",
              "<style scoped>\n",
              "    .dataframe tbody tr th:only-of-type {\n",
              "        vertical-align: middle;\n",
              "    }\n",
              "\n",
              "    .dataframe tbody tr th {\n",
              "        vertical-align: top;\n",
              "    }\n",
              "\n",
              "    .dataframe thead th {\n",
              "        text-align: right;\n",
              "    }\n",
              "</style>\n",
              "<table border=\"1\" class=\"dataframe\">\n",
              "  <thead>\n",
              "    <tr style=\"text-align: right;\">\n",
              "      <th></th>\n",
              "      <th>expected_sentiment</th>\n",
              "      <th>text</th>\n",
              "    </tr>\n",
              "  </thead>\n",
              "  <tbody>\n",
              "    <tr>\n",
              "      <th>0</th>\n",
              "      <td>positive</td>\n",
              "      <td>@stellargirl I loooooooovvvvvveee my Kindle2. ...</td>\n",
              "    </tr>\n",
              "    <tr>\n",
              "      <th>1</th>\n",
              "      <td>positive</td>\n",
              "      <td>Reading my kindle2...  Love it... Lee childs i...</td>\n",
              "    </tr>\n",
              "    <tr>\n",
              "      <th>2</th>\n",
              "      <td>positive</td>\n",
              "      <td>Ok, first assesment of the #kindle2 ...it fuck...</td>\n",
              "    </tr>\n",
              "    <tr>\n",
              "      <th>3</th>\n",
              "      <td>positive</td>\n",
              "      <td>@kenburbary You'll love your Kindle2. I've had...</td>\n",
              "    </tr>\n",
              "    <tr>\n",
              "      <th>4</th>\n",
              "      <td>positive</td>\n",
              "      <td>@mikefish  Fair enough. But i have the Kindle2...</td>\n",
              "    </tr>\n",
              "  </tbody>\n",
              "</table>\n",
              "</div>\n",
              "    <div class=\"colab-df-buttons\">\n",
              "\n",
              "  <div class=\"colab-df-container\">\n",
              "    <button class=\"colab-df-convert\" onclick=\"convertToInteractive('df-73ac7e83-52d3-4279-bcf5-189eca6d726c')\"\n",
              "            title=\"Convert this dataframe to an interactive table.\"\n",
              "            style=\"display:none;\">\n",
              "\n",
              "  <svg xmlns=\"http://www.w3.org/2000/svg\" height=\"24px\" viewBox=\"0 -960 960 960\">\n",
              "    <path d=\"M120-120v-720h720v720H120Zm60-500h600v-160H180v160Zm220 220h160v-160H400v160Zm0 220h160v-160H400v160ZM180-400h160v-160H180v160Zm440 0h160v-160H620v160ZM180-180h160v-160H180v160Zm440 0h160v-160H620v160Z\"/>\n",
              "  </svg>\n",
              "    </button>\n",
              "\n",
              "  <style>\n",
              "    .colab-df-container {\n",
              "      display:flex;\n",
              "      gap: 12px;\n",
              "    }\n",
              "\n",
              "    .colab-df-convert {\n",
              "      background-color: #E8F0FE;\n",
              "      border: none;\n",
              "      border-radius: 50%;\n",
              "      cursor: pointer;\n",
              "      display: none;\n",
              "      fill: #1967D2;\n",
              "      height: 32px;\n",
              "      padding: 0 0 0 0;\n",
              "      width: 32px;\n",
              "    }\n",
              "\n",
              "    .colab-df-convert:hover {\n",
              "      background-color: #E2EBFA;\n",
              "      box-shadow: 0px 1px 2px rgba(60, 64, 67, 0.3), 0px 1px 3px 1px rgba(60, 64, 67, 0.15);\n",
              "      fill: #174EA6;\n",
              "    }\n",
              "\n",
              "    .colab-df-buttons div {\n",
              "      margin-bottom: 4px;\n",
              "    }\n",
              "\n",
              "    [theme=dark] .colab-df-convert {\n",
              "      background-color: #3B4455;\n",
              "      fill: #D2E3FC;\n",
              "    }\n",
              "\n",
              "    [theme=dark] .colab-df-convert:hover {\n",
              "      background-color: #434B5C;\n",
              "      box-shadow: 0px 1px 3px 1px rgba(0, 0, 0, 0.15);\n",
              "      filter: drop-shadow(0px 1px 2px rgba(0, 0, 0, 0.3));\n",
              "      fill: #FFFFFF;\n",
              "    }\n",
              "  </style>\n",
              "\n",
              "    <script>\n",
              "      const buttonEl =\n",
              "        document.querySelector('#df-73ac7e83-52d3-4279-bcf5-189eca6d726c button.colab-df-convert');\n",
              "      buttonEl.style.display =\n",
              "        google.colab.kernel.accessAllowed ? 'block' : 'none';\n",
              "\n",
              "      async function convertToInteractive(key) {\n",
              "        const element = document.querySelector('#df-73ac7e83-52d3-4279-bcf5-189eca6d726c');\n",
              "        const dataTable =\n",
              "          await google.colab.kernel.invokeFunction('convertToInteractive',\n",
              "                                                    [key], {});\n",
              "        if (!dataTable) return;\n",
              "\n",
              "        const docLinkHtml = 'Like what you see? Visit the ' +\n",
              "          '<a target=\"_blank\" href=https://colab.research.google.com/notebooks/data_table.ipynb>data table notebook</a>'\n",
              "          + ' to learn more about interactive tables.';\n",
              "        element.innerHTML = '';\n",
              "        dataTable['output_type'] = 'display_data';\n",
              "        await google.colab.output.renderOutput(dataTable, element);\n",
              "        const docLink = document.createElement('div');\n",
              "        docLink.innerHTML = docLinkHtml;\n",
              "        element.appendChild(docLink);\n",
              "      }\n",
              "    </script>\n",
              "  </div>\n",
              "\n",
              "\n",
              "<div id=\"df-cf8293be-32f2-4369-9a63-280b3fb7dee2\">\n",
              "  <button class=\"colab-df-quickchart\" onclick=\"quickchart('df-cf8293be-32f2-4369-9a63-280b3fb7dee2')\"\n",
              "            title=\"Suggest charts\"\n",
              "            style=\"display:none;\">\n",
              "\n",
              "<svg xmlns=\"http://www.w3.org/2000/svg\" height=\"24px\"viewBox=\"0 0 24 24\"\n",
              "     width=\"24px\">\n",
              "    <g>\n",
              "        <path d=\"M19 3H5c-1.1 0-2 .9-2 2v14c0 1.1.9 2 2 2h14c1.1 0 2-.9 2-2V5c0-1.1-.9-2-2-2zM9 17H7v-7h2v7zm4 0h-2V7h2v10zm4 0h-2v-4h2v4z\"/>\n",
              "    </g>\n",
              "</svg>\n",
              "  </button>\n",
              "\n",
              "<style>\n",
              "  .colab-df-quickchart {\n",
              "      --bg-color: #E8F0FE;\n",
              "      --fill-color: #1967D2;\n",
              "      --hover-bg-color: #E2EBFA;\n",
              "      --hover-fill-color: #174EA6;\n",
              "      --disabled-fill-color: #AAA;\n",
              "      --disabled-bg-color: #DDD;\n",
              "  }\n",
              "\n",
              "  [theme=dark] .colab-df-quickchart {\n",
              "      --bg-color: #3B4455;\n",
              "      --fill-color: #D2E3FC;\n",
              "      --hover-bg-color: #434B5C;\n",
              "      --hover-fill-color: #FFFFFF;\n",
              "      --disabled-bg-color: #3B4455;\n",
              "      --disabled-fill-color: #666;\n",
              "  }\n",
              "\n",
              "  .colab-df-quickchart {\n",
              "    background-color: var(--bg-color);\n",
              "    border: none;\n",
              "    border-radius: 50%;\n",
              "    cursor: pointer;\n",
              "    display: none;\n",
              "    fill: var(--fill-color);\n",
              "    height: 32px;\n",
              "    padding: 0;\n",
              "    width: 32px;\n",
              "  }\n",
              "\n",
              "  .colab-df-quickchart:hover {\n",
              "    background-color: var(--hover-bg-color);\n",
              "    box-shadow: 0 1px 2px rgba(60, 64, 67, 0.3), 0 1px 3px 1px rgba(60, 64, 67, 0.15);\n",
              "    fill: var(--button-hover-fill-color);\n",
              "  }\n",
              "\n",
              "  .colab-df-quickchart-complete:disabled,\n",
              "  .colab-df-quickchart-complete:disabled:hover {\n",
              "    background-color: var(--disabled-bg-color);\n",
              "    fill: var(--disabled-fill-color);\n",
              "    box-shadow: none;\n",
              "  }\n",
              "\n",
              "  .colab-df-spinner {\n",
              "    border: 2px solid var(--fill-color);\n",
              "    border-color: transparent;\n",
              "    border-bottom-color: var(--fill-color);\n",
              "    animation:\n",
              "      spin 1s steps(1) infinite;\n",
              "  }\n",
              "\n",
              "  @keyframes spin {\n",
              "    0% {\n",
              "      border-color: transparent;\n",
              "      border-bottom-color: var(--fill-color);\n",
              "      border-left-color: var(--fill-color);\n",
              "    }\n",
              "    20% {\n",
              "      border-color: transparent;\n",
              "      border-left-color: var(--fill-color);\n",
              "      border-top-color: var(--fill-color);\n",
              "    }\n",
              "    30% {\n",
              "      border-color: transparent;\n",
              "      border-left-color: var(--fill-color);\n",
              "      border-top-color: var(--fill-color);\n",
              "      border-right-color: var(--fill-color);\n",
              "    }\n",
              "    40% {\n",
              "      border-color: transparent;\n",
              "      border-right-color: var(--fill-color);\n",
              "      border-top-color: var(--fill-color);\n",
              "    }\n",
              "    60% {\n",
              "      border-color: transparent;\n",
              "      border-right-color: var(--fill-color);\n",
              "    }\n",
              "    80% {\n",
              "      border-color: transparent;\n",
              "      border-right-color: var(--fill-color);\n",
              "      border-bottom-color: var(--fill-color);\n",
              "    }\n",
              "    90% {\n",
              "      border-color: transparent;\n",
              "      border-bottom-color: var(--fill-color);\n",
              "    }\n",
              "  }\n",
              "</style>\n",
              "\n",
              "  <script>\n",
              "    async function quickchart(key) {\n",
              "      const quickchartButtonEl =\n",
              "        document.querySelector('#' + key + ' button');\n",
              "      quickchartButtonEl.disabled = true;  // To prevent multiple clicks.\n",
              "      quickchartButtonEl.classList.add('colab-df-spinner');\n",
              "      try {\n",
              "        const charts = await google.colab.kernel.invokeFunction(\n",
              "            'suggestCharts', [key], {});\n",
              "      } catch (error) {\n",
              "        console.error('Error during call to suggestCharts:', error);\n",
              "      }\n",
              "      quickchartButtonEl.classList.remove('colab-df-spinner');\n",
              "      quickchartButtonEl.classList.add('colab-df-quickchart-complete');\n",
              "    }\n",
              "    (() => {\n",
              "      let quickchartButtonEl =\n",
              "        document.querySelector('#df-cf8293be-32f2-4369-9a63-280b3fb7dee2 button');\n",
              "      quickchartButtonEl.style.display =\n",
              "        google.colab.kernel.accessAllowed ? 'block' : 'none';\n",
              "    })();\n",
              "  </script>\n",
              "</div>\n",
              "    </div>\n",
              "  </div>\n"
            ]
          },
          "metadata": {},
          "execution_count": 712
        }
      ]
    },
    {
      "cell_type": "code",
      "source": [
        "# Pandas read csv not working\n",
        "# dataset = pd.read_csv(\"/content/drive/MyDrive/Technical Exam - Senior AI Machine Learning Engineer (2).zip (Unzipped Files)/sentiment_test_cases_1.csv\", index_col=0, sep='\\t')"
      ],
      "metadata": {
        "id": "G843oQTipUa_"
      },
      "execution_count": 713,
      "outputs": []
    },
    {
      "cell_type": "code",
      "source": [
        "# dataset = dataset[[\"expected_sentiment\",\"text\"]]\n",
        "# dataset[\"expected_sentiment\",\"text\"] = dataset[\"expected_sentiment\",\"text\"].astype(str)\n",
        "# dataset.head()"
      ],
      "metadata": {
        "id": "IJcD_ShUApOQ"
      },
      "execution_count": 714,
      "outputs": []
    },
    {
      "cell_type": "code",
      "source": [
        "# dataset.head()"
      ],
      "metadata": {
        "id": "DK6TJuTxpkxe"
      },
      "execution_count": 715,
      "outputs": []
    },
    {
      "cell_type": "markdown",
      "source": [
        "Swap the columns text and expected_sentiment"
      ],
      "metadata": {
        "id": "e9V4AJ02IXic"
      }
    },
    {
      "cell_type": "code",
      "source": [
        "column_names = ['text', 'expected_sentiment']"
      ],
      "metadata": {
        "id": "7jg-3tuT5q86"
      },
      "execution_count": 716,
      "outputs": []
    },
    {
      "cell_type": "code",
      "source": [
        "data_pd = data_pd.reindex(columns=column_names)"
      ],
      "metadata": {
        "id": "7Te-jXhS6PGO"
      },
      "execution_count": 717,
      "outputs": []
    },
    {
      "cell_type": "code",
      "source": [
        "print(data_pd)"
      ],
      "metadata": {
        "colab": {
          "base_uri": "https://localhost:8080/"
        },
        "id": "HD_eMr-SvL5J",
        "outputId": "d5c4068c-c32b-48d3-aa95-eab879906d78"
      },
      "execution_count": 718,
      "outputs": [
        {
          "output_type": "stream",
          "name": "stdout",
          "text": [
            "                                                  text expected_sentiment\n",
            "0    @stellargirl I loooooooovvvvvveee my Kindle2. ...           positive\n",
            "1    Reading my kindle2...  Love it... Lee childs i...           positive\n",
            "2    Ok, first assesment of the #kindle2 ...it fuck...           positive\n",
            "3    @kenburbary You'll love your Kindle2. I've had...           positive\n",
            "4    @mikefish  Fair enough. But i have the Kindle2...           positive\n",
            "..                                                 ...                ...\n",
            "493  Ask Programming: LaTeX or InDesign?: submitted...            neutral\n",
            "494  On that note, I hate Word. I hate Pages. I hat...           negative\n",
            "495  Ahhh... back in a *real* text editing environm...           positive\n",
            "496  Trouble in Iran, I see. Hmm. Iran. Iran so far...           negative\n",
            "497  Reading the tweets coming out of Iran... The w...           negative\n",
            "\n",
            "[498 rows x 2 columns]\n"
          ]
        }
      ]
    },
    {
      "cell_type": "code",
      "source": [
        "print(data_pd[0:20])"
      ],
      "metadata": {
        "colab": {
          "base_uri": "https://localhost:8080/"
        },
        "id": "IgCE1Vrz5AhI",
        "outputId": "a5acb759-e09e-4330-a831-a82f2a981939"
      },
      "execution_count": 719,
      "outputs": [
        {
          "output_type": "stream",
          "name": "stdout",
          "text": [
            "                                                 text expected_sentiment\n",
            "0   @stellargirl I loooooooovvvvvveee my Kindle2. ...           positive\n",
            "1   Reading my kindle2...  Love it... Lee childs i...           positive\n",
            "2   Ok, first assesment of the #kindle2 ...it fuck...           positive\n",
            "3   @kenburbary You'll love your Kindle2. I've had...           positive\n",
            "4   @mikefish  Fair enough. But i have the Kindle2...           positive\n",
            "5   @richardebaker no. it is too big. I'm quite ha...           positive\n",
            "6   Fuck this economy. I hate aig and their non lo...           negative\n",
            "7                       Jquery is my new best friend.           positive\n",
            "8                                       Loves twitter           positive\n",
            "9   how can you not love Obama? he makes jokes abo...           positive\n",
            "10  Check this video out -- President Obama at the...            neutral\n",
            "11  @Karoli I firmly believe that Obama/Pelosi hav...           negative\n",
            "12  House Correspondents dinner was last night who...           positive\n",
            "13  Watchin Espn..Jus seen this new Nike Commerica...           positive\n",
            "14  dear nike, stop with the flywire. that shit is...           negative\n",
            "15  #lebron best athlete of our generation, if not...           positive\n",
            "16  I was talking to this guy last night and he wa...           negative\n",
            "17                 i love lebron. http://bit.ly/PdHur           positive\n",
            "18  @ludajuice Lebron is a Beast, but I'm still ch...           negative\n",
            "19                        @Pmillzz lebron IS THE BOSS           positive\n"
          ]
        }
      ]
    },
    {
      "cell_type": "code",
      "source": [
        "# Importing LabelEncoder from Sklearn\n",
        "# library from preprocessing Module.\n",
        "from sklearn.preprocessing import LabelEncoder\n",
        "\n",
        "# Creating a instance of label Encoder.\n",
        "le = LabelEncoder()\n",
        "\n",
        "# Using .fit_transform function to fit label\n",
        "# encoder and return encoded label\n",
        "label = le.fit_transform(data_pd['expected_sentiment'])\n",
        "\n",
        "# printing label\n",
        "label"
      ],
      "metadata": {
        "colab": {
          "base_uri": "https://localhost:8080/"
        },
        "id": "-b9VA9VEM-Bv",
        "outputId": "25993f36-b5d0-4973-db97-9959c0e850b2"
      },
      "execution_count": 720,
      "outputs": [
        {
          "output_type": "execute_result",
          "data": {
            "text/plain": [
              "array([2, 2, 2, 2, 2, 2, 0, 2, 2, 2, 1, 0, 2, 2, 0, 2, 0, 2, 0, 2, 2, 2,\n",
              "       2, 2, 2, 2, 2, 2, 2, 2, 1, 1, 2, 0, 0, 0, 0, 0, 2, 2, 2, 2, 0, 0,\n",
              "       0, 1, 1, 1, 0, 0, 0, 2, 1, 1, 0, 1, 2, 2, 2, 0, 2, 1, 2, 1, 0, 0,\n",
              "       2, 2, 2, 1, 1, 1, 0, 2, 2, 1, 1, 2, 0, 0, 2, 0, 2, 1, 1, 2, 0, 0,\n",
              "       0, 0, 0, 0, 0, 0, 0, 2, 0, 0, 0, 0, 0, 0, 0, 0, 0, 0, 2, 1, 2, 2,\n",
              "       2, 2, 2, 2, 2, 2, 2, 1, 2, 2, 1, 2, 1, 0, 2, 2, 1, 2, 1, 1, 2, 2,\n",
              "       2, 2, 1, 1, 0, 1, 0, 0, 0, 0, 0, 0, 0, 0, 0, 0, 0, 0, 0, 0, 0, 1,\n",
              "       0, 1, 1, 1, 1, 1, 1, 0, 2, 1, 0, 0, 1, 2, 0, 0, 0, 1, 1, 1, 1, 1,\n",
              "       0, 1, 1, 2, 1, 1, 1, 1, 0, 0, 1, 1, 1, 1, 1, 2, 0, 1, 2, 1, 2, 1,\n",
              "       1, 1, 1, 1, 2, 2, 1, 2, 2, 1, 2, 1, 0, 0, 0, 0, 0, 0, 1, 0, 2, 1,\n",
              "       1, 0, 0, 0, 0, 0, 0, 0, 0, 0, 0, 0, 1, 0, 0, 1, 2, 2, 2, 2, 0, 1,\n",
              "       1, 2, 2, 2, 2, 2, 2, 2, 0, 2, 2, 2, 2, 2, 2, 2, 2, 0, 2, 2, 1, 0,\n",
              "       2, 2, 2, 1, 2, 2, 2, 0, 0, 2, 2, 2, 2, 2, 2, 1, 0, 0, 0, 1, 1, 2,\n",
              "       0, 2, 2, 2, 2, 2, 0, 0, 2, 2, 0, 0, 0, 0, 1, 0, 0, 1, 0, 1, 2, 0,\n",
              "       2, 2, 1, 1, 0, 2, 0, 2, 2, 2, 2, 2, 1, 2, 2, 2, 1, 1, 2, 2, 0, 0,\n",
              "       0, 0, 0, 0, 0, 2, 0, 2, 2, 2, 2, 2, 2, 0, 0, 0, 2, 2, 1, 2, 2, 1,\n",
              "       2, 2, 2, 2, 2, 2, 2, 2, 1, 0, 2, 2, 1, 1, 1, 0, 2, 2, 1, 1, 2, 0,\n",
              "       0, 1, 0, 0, 0, 0, 0, 0, 0, 0, 0, 0, 1, 0, 0, 0, 0, 0, 0, 0, 0, 0,\n",
              "       0, 0, 0, 1, 1, 1, 0, 0, 2, 2, 0, 1, 0, 0, 0, 1, 1, 1, 1, 1, 1, 1,\n",
              "       1, 2, 0, 1, 0, 1, 1, 1, 1, 1, 1, 1, 1, 1, 1, 1, 1, 2, 1, 2, 1, 2,\n",
              "       0, 1, 1, 2, 1, 1, 1, 1, 1, 2, 1, 2, 2, 0, 2, 0, 2, 0, 0, 1, 1, 0,\n",
              "       0, 2, 0, 1, 1, 2, 0, 2, 2, 2, 1, 1, 0, 1, 2, 2, 2, 2, 0, 0, 0, 1,\n",
              "       0, 0, 1, 2, 1, 2, 0, 2, 2, 1, 0, 2, 0, 0])"
            ]
          },
          "metadata": {},
          "execution_count": 720
        }
      ]
    },
    {
      "cell_type": "markdown",
      "source": [
        "Cleaning the text for preparation of sentiment analysis"
      ],
      "metadata": {
        "id": "pA1HcqTaIkn2"
      }
    },
    {
      "cell_type": "code",
      "source": [
        "import re\n",
        "import nltk\n",
        "nltk.download('stopwords')\n",
        "from nltk.corpus import stopwords\n",
        "from nltk.stem.porter import PorterStemmer\n",
        "corpus = []\n"
      ],
      "metadata": {
        "colab": {
          "base_uri": "https://localhost:8080/"
        },
        "id": "uSc9Jyc_tC6K",
        "outputId": "5ece928d-ff98-4571-a56a-49282bcbe8e4"
      },
      "execution_count": 721,
      "outputs": [
        {
          "output_type": "stream",
          "name": "stderr",
          "text": [
            "[nltk_data] Downloading package stopwords to /root/nltk_data...\n",
            "[nltk_data]   Package stopwords is already up-to-date!\n"
          ]
        }
      ]
    },
    {
      "cell_type": "code",
      "source": [
        "for i in range(0, 498):\n",
        "  review = re.sub('[^a-zA-Z]', ' ', data_pd['text'][i])\n",
        "  review = review.lower()\n",
        "  review = review.split()\n",
        "  ps = PorterStemmer()\n",
        "  all_stopwords = stopwords.words('english')\n",
        "  all_stopwords.remove('not')\n",
        "  review = [ps.stem(word) for word in review if not word in set(all_stopwords)]\n",
        "  review = ' '.join(review)\n",
        "  corpus.append(review)"
      ],
      "metadata": {
        "id": "GuPMC9pM0U6-"
      },
      "execution_count": 722,
      "outputs": []
    },
    {
      "cell_type": "code",
      "source": [
        "print(corpus[0:5])"
      ],
      "metadata": {
        "colab": {
          "base_uri": "https://localhost:8080/"
        },
        "id": "M0STGkMeHx5_",
        "outputId": "59d395c7-23cc-4517-d4bd-7833a8bc2af7"
      },
      "execution_count": 723,
      "outputs": [
        {
          "output_type": "stream",
          "name": "stdout",
          "text": [
            "['stellargirl loooooooovvvvvvee kindl not dx cool fantast right', 'read kindl love lee child good read', 'ok first asses kindl fuck rock', 'kenburbari love kindl mine month never look back new big one huge need remors', 'mikefish fair enough kindl think perfect']\n"
          ]
        }
      ]
    },
    {
      "cell_type": "markdown",
      "source": [
        "Creating Bag of Words"
      ],
      "metadata": {
        "id": "e4wsSYZCI_R1"
      }
    },
    {
      "cell_type": "code",
      "source": [
        "from sklearn.feature_extraction.text import CountVectorizer\n",
        "cv = CountVectorizer(max_features = 498)\n",
        "X = cv.fit_transform(corpus).toarray()\n",
        "y = data_pd.iloc[:, -1].values"
      ],
      "metadata": {
        "id": "IriYoD6hHzxn"
      },
      "execution_count": 724,
      "outputs": []
    },
    {
      "cell_type": "code",
      "source": [
        "print(X.shape)\n",
        "print(y.shape)"
      ],
      "metadata": {
        "colab": {
          "base_uri": "https://localhost:8080/"
        },
        "id": "-xFByQvEJxm-",
        "outputId": "d9ce1481-b681-4cbc-c16f-27d2badf0308"
      },
      "execution_count": 725,
      "outputs": [
        {
          "output_type": "stream",
          "name": "stdout",
          "text": [
            "(498, 498)\n",
            "(498,)\n"
          ]
        }
      ]
    },
    {
      "cell_type": "markdown",
      "source": [
        "Splitting the Dataset into Taining and test set"
      ],
      "metadata": {
        "id": "YX1w0NEiJOXl"
      }
    },
    {
      "cell_type": "code",
      "source": [
        "from sklearn.model_selection import train_test_split\n",
        "X_train, X_test, y_train, y_test = train_test_split(X, y, test_size = 0.20, random_state = 0)"
      ],
      "metadata": {
        "id": "I6qAv7MSJLiG"
      },
      "execution_count": 726,
      "outputs": []
    },
    {
      "cell_type": "markdown",
      "source": [
        "Training the Naive Bayes model on the Training set"
      ],
      "metadata": {
        "id": "LX5kg3mGOIVt"
      }
    },
    {
      "cell_type": "code",
      "source": [
        "model = GaussianNB()\n",
        "model.fit(X_train, y_train)"
      ],
      "metadata": {
        "colab": {
          "base_uri": "https://localhost:8080/",
          "height": 74
        },
        "id": "MrivCvSXODcN",
        "outputId": "2f08e397-a7dd-4e31-d6cf-9bdc702940b7"
      },
      "execution_count": 727,
      "outputs": [
        {
          "output_type": "execute_result",
          "data": {
            "text/plain": [
              "GaussianNB()"
            ],
            "text/html": [
              "<style>#sk-container-id-19 {color: black;background-color: white;}#sk-container-id-19 pre{padding: 0;}#sk-container-id-19 div.sk-toggleable {background-color: white;}#sk-container-id-19 label.sk-toggleable__label {cursor: pointer;display: block;width: 100%;margin-bottom: 0;padding: 0.3em;box-sizing: border-box;text-align: center;}#sk-container-id-19 label.sk-toggleable__label-arrow:before {content: \"▸\";float: left;margin-right: 0.25em;color: #696969;}#sk-container-id-19 label.sk-toggleable__label-arrow:hover:before {color: black;}#sk-container-id-19 div.sk-estimator:hover label.sk-toggleable__label-arrow:before {color: black;}#sk-container-id-19 div.sk-toggleable__content {max-height: 0;max-width: 0;overflow: hidden;text-align: left;background-color: #f0f8ff;}#sk-container-id-19 div.sk-toggleable__content pre {margin: 0.2em;color: black;border-radius: 0.25em;background-color: #f0f8ff;}#sk-container-id-19 input.sk-toggleable__control:checked~div.sk-toggleable__content {max-height: 200px;max-width: 100%;overflow: auto;}#sk-container-id-19 input.sk-toggleable__control:checked~label.sk-toggleable__label-arrow:before {content: \"▾\";}#sk-container-id-19 div.sk-estimator input.sk-toggleable__control:checked~label.sk-toggleable__label {background-color: #d4ebff;}#sk-container-id-19 div.sk-label input.sk-toggleable__control:checked~label.sk-toggleable__label {background-color: #d4ebff;}#sk-container-id-19 input.sk-hidden--visually {border: 0;clip: rect(1px 1px 1px 1px);clip: rect(1px, 1px, 1px, 1px);height: 1px;margin: -1px;overflow: hidden;padding: 0;position: absolute;width: 1px;}#sk-container-id-19 div.sk-estimator {font-family: monospace;background-color: #f0f8ff;border: 1px dotted black;border-radius: 0.25em;box-sizing: border-box;margin-bottom: 0.5em;}#sk-container-id-19 div.sk-estimator:hover {background-color: #d4ebff;}#sk-container-id-19 div.sk-parallel-item::after {content: \"\";width: 100%;border-bottom: 1px solid gray;flex-grow: 1;}#sk-container-id-19 div.sk-label:hover label.sk-toggleable__label {background-color: #d4ebff;}#sk-container-id-19 div.sk-serial::before {content: \"\";position: absolute;border-left: 1px solid gray;box-sizing: border-box;top: 0;bottom: 0;left: 50%;z-index: 0;}#sk-container-id-19 div.sk-serial {display: flex;flex-direction: column;align-items: center;background-color: white;padding-right: 0.2em;padding-left: 0.2em;position: relative;}#sk-container-id-19 div.sk-item {position: relative;z-index: 1;}#sk-container-id-19 div.sk-parallel {display: flex;align-items: stretch;justify-content: center;background-color: white;position: relative;}#sk-container-id-19 div.sk-item::before, #sk-container-id-19 div.sk-parallel-item::before {content: \"\";position: absolute;border-left: 1px solid gray;box-sizing: border-box;top: 0;bottom: 0;left: 50%;z-index: -1;}#sk-container-id-19 div.sk-parallel-item {display: flex;flex-direction: column;z-index: 1;position: relative;background-color: white;}#sk-container-id-19 div.sk-parallel-item:first-child::after {align-self: flex-end;width: 50%;}#sk-container-id-19 div.sk-parallel-item:last-child::after {align-self: flex-start;width: 50%;}#sk-container-id-19 div.sk-parallel-item:only-child::after {width: 0;}#sk-container-id-19 div.sk-dashed-wrapped {border: 1px dashed gray;margin: 0 0.4em 0.5em 0.4em;box-sizing: border-box;padding-bottom: 0.4em;background-color: white;}#sk-container-id-19 div.sk-label label {font-family: monospace;font-weight: bold;display: inline-block;line-height: 1.2em;}#sk-container-id-19 div.sk-label-container {text-align: center;}#sk-container-id-19 div.sk-container {/* jupyter's `normalize.less` sets `[hidden] { display: none; }` but bootstrap.min.css set `[hidden] { display: none !important; }` so we also need the `!important` here to be able to override the default hidden behavior on the sphinx rendered scikit-learn.org. See: https://github.com/scikit-learn/scikit-learn/issues/21755 */display: inline-block !important;position: relative;}#sk-container-id-19 div.sk-text-repr-fallback {display: none;}</style><div id=\"sk-container-id-19\" class=\"sk-top-container\"><div class=\"sk-text-repr-fallback\"><pre>GaussianNB()</pre><b>In a Jupyter environment, please rerun this cell to show the HTML representation or trust the notebook. <br />On GitHub, the HTML representation is unable to render, please try loading this page with nbviewer.org.</b></div><div class=\"sk-container\" hidden><div class=\"sk-item\"><div class=\"sk-estimator sk-toggleable\"><input class=\"sk-toggleable__control sk-hidden--visually\" id=\"sk-estimator-id-19\" type=\"checkbox\" checked><label for=\"sk-estimator-id-19\" class=\"sk-toggleable__label sk-toggleable__label-arrow\">GaussianNB</label><div class=\"sk-toggleable__content\"><pre>GaussianNB()</pre></div></div></div></div></div>"
            ]
          },
          "metadata": {},
          "execution_count": 727
        }
      ]
    },
    {
      "cell_type": "markdown",
      "source": [
        "Predicting the Test set results"
      ],
      "metadata": {
        "id": "DgUG9llPOQ6v"
      }
    },
    {
      "cell_type": "code",
      "source": [
        "model_prediction = model.predict(X_test)\n",
        "print(np.concatenate((model_prediction.reshape(len(model_prediction),1), y_test.reshape(len(y_test),1)),1))"
      ],
      "metadata": {
        "colab": {
          "base_uri": "https://localhost:8080/"
        },
        "id": "t0mxR0nQONFW",
        "outputId": "d94e1f5b-6c4c-47f7-b113-9abf23e0807b"
      },
      "execution_count": 728,
      "outputs": [
        {
          "output_type": "stream",
          "name": "stdout",
          "text": [
            "[['negative' 'negative']\n",
            " ['neutral' 'positive']\n",
            " ['neutral' 'neutral']\n",
            " ['negative' 'positive']\n",
            " ['positive' 'negative']\n",
            " ['positive' 'positive']\n",
            " ['negative' 'positive']\n",
            " ['positive' 'positive']\n",
            " ['neutral' 'neutral']\n",
            " ['negative' 'neutral']\n",
            " ['negative' 'neutral']\n",
            " ['negative' 'negative']\n",
            " ['neutral' 'neutral']\n",
            " ['positive' 'positive']\n",
            " ['neutral' 'neutral']\n",
            " ['positive' 'positive']\n",
            " ['negative' 'neutral']\n",
            " ['negative' 'positive']\n",
            " ['negative' 'negative']\n",
            " ['negative' 'negative']\n",
            " ['neutral' 'positive']\n",
            " ['positive' 'neutral']\n",
            " ['positive' 'negative']\n",
            " ['positive' 'positive']\n",
            " ['negative' 'neutral']\n",
            " ['neutral' 'neutral']\n",
            " ['positive' 'positive']\n",
            " ['neutral' 'neutral']\n",
            " ['negative' 'negative']\n",
            " ['neutral' 'negative']\n",
            " ['neutral' 'neutral']\n",
            " ['positive' 'positive']\n",
            " ['neutral' 'positive']\n",
            " ['negative' 'positive']\n",
            " ['positive' 'positive']\n",
            " ['positive' 'positive']\n",
            " ['neutral' 'neutral']\n",
            " ['neutral' 'neutral']\n",
            " ['positive' 'neutral']\n",
            " ['positive' 'positive']\n",
            " ['positive' 'positive']\n",
            " ['neutral' 'neutral']\n",
            " ['neutral' 'neutral']\n",
            " ['negative' 'negative']\n",
            " ['neutral' 'neutral']\n",
            " ['positive' 'positive']\n",
            " ['negative' 'negative']\n",
            " ['positive' 'positive']\n",
            " ['neutral' 'neutral']\n",
            " ['negative' 'negative']\n",
            " ['neutral' 'negative']\n",
            " ['negative' 'negative']\n",
            " ['negative' 'negative']\n",
            " ['negative' 'negative']\n",
            " ['negative' 'positive']\n",
            " ['positive' 'positive']\n",
            " ['positive' 'positive']\n",
            " ['neutral' 'neutral']\n",
            " ['neutral' 'negative']\n",
            " ['positive' 'positive']\n",
            " ['positive' 'negative']\n",
            " ['positive' 'positive']\n",
            " ['negative' 'negative']\n",
            " ['positive' 'positive']\n",
            " ['neutral' 'negative']\n",
            " ['positive' 'positive']\n",
            " ['positive' 'neutral']\n",
            " ['negative' 'negative']\n",
            " ['negative' 'negative']\n",
            " ['negative' 'neutral']\n",
            " ['negative' 'negative']\n",
            " ['neutral' 'negative']\n",
            " ['neutral' 'neutral']\n",
            " ['neutral' 'negative']\n",
            " ['negative' 'neutral']\n",
            " ['negative' 'neutral']\n",
            " ['neutral' 'positive']\n",
            " ['positive' 'negative']\n",
            " ['positive' 'positive']\n",
            " ['positive' 'positive']\n",
            " ['neutral' 'neutral']\n",
            " ['positive' 'neutral']\n",
            " ['positive' 'neutral']\n",
            " ['neutral' 'neutral']\n",
            " ['negative' 'negative']\n",
            " ['neutral' 'neutral']\n",
            " ['neutral' 'positive']\n",
            " ['positive' 'neutral']\n",
            " ['positive' 'positive']\n",
            " ['negative' 'negative']\n",
            " ['positive' 'neutral']\n",
            " ['negative' 'neutral']\n",
            " ['neutral' 'negative']\n",
            " ['neutral' 'neutral']\n",
            " ['positive' 'positive']\n",
            " ['negative' 'negative']\n",
            " ['positive' 'positive']\n",
            " ['positive' 'neutral']\n",
            " ['positive' 'positive']\n",
            " ['neutral' 'positive']]\n"
          ]
        }
      ]
    },
    {
      "cell_type": "markdown",
      "source": [
        "Making the Confusion Matrix"
      ],
      "metadata": {
        "id": "8Jg4WwPHOY_G"
      }
    },
    {
      "cell_type": "code",
      "source": [
        "from sklearn.metrics import confusion_matrix, accuracy_score, ConfusionMatrixDisplay, f1_score\n",
        "from sklearn.metrics import classification_report\n",
        "\n",
        "labels = [\"Positive\", \"Neutral\", \"Negative\"]\n",
        "cm = confusion_matrix(y_test, model_prediction)\n",
        "\n",
        "disp = ConfusionMatrixDisplay(confusion_matrix=cm, display_labels = labels)\n",
        "disp.plot()\n",
        "\n",
        "accuracy = accuracy_score(y_test, model_prediction)\n",
        "f1 = f1_score(model_prediction, y_test, average=\"weighted\")\n",
        "print(\"Accuracy:\", accuracy)\n",
        "print(\"F1 Score:\", f1)\n",
        "print(classification_report(y_test, model_prediction))"
      ],
      "metadata": {
        "colab": {
          "base_uri": "https://localhost:8080/",
          "height": 668
        },
        "id": "UDdlt8gvOYeI",
        "outputId": "cbb4841f-a81a-4ee5-a542-3c43cbef73ac"
      },
      "execution_count": 729,
      "outputs": [
        {
          "output_type": "stream",
          "name": "stdout",
          "text": [
            "Accuracy: 0.62\n",
            "F1 Score: 0.6209171948476794\n",
            "              precision    recall  f1-score   support\n",
            "\n",
            "    negative       0.58      0.62      0.60        29\n",
            "     neutral       0.59      0.54      0.57        35\n",
            "    positive       0.68      0.69      0.68        36\n",
            "\n",
            "    accuracy                           0.62       100\n",
            "   macro avg       0.62      0.62      0.62       100\n",
            "weighted avg       0.62      0.62      0.62       100\n",
            "\n"
          ]
        },
        {
          "output_type": "display_data",
          "data": {
            "text/plain": [
              "<Figure size 640x480 with 2 Axes>"
            ],
            "image/png": "[encoded data removed]"
          },
          "metadata": {}
        }
      ]
    },
    {
      "cell_type": "markdown",
      "source": [
        "Model Evaluation using Test Data"
      ],
      "metadata": {
        "id": "SG6138Z3E9lW"
      }
    },
    {
      "cell_type": "code",
      "source": [
        "model_prediction = model.predict([X_test[8]])\n",
        "\n",
        "print(\"Actual Value:\", data_pd.text[8])\n",
        "print(\"Predicted Value:\", model_prediction[0])"
      ],
      "metadata": {
        "colab": {
          "base_uri": "https://localhost:8080/"
        },
        "id": "Cg5_4FjIie34",
        "outputId": "348110f7-eca9-4ac4-be61-83c8d8685bf1"
      },
      "execution_count": 730,
      "outputs": [
        {
          "output_type": "stream",
          "name": "stdout",
          "text": [
            "Actual Value: Loves twitter\n",
            "Predicted Value: neutral\n"
          ]
        }
      ]
    },
    {
      "cell_type": "code",
      "source": [
        "model_prediction = model.predict([X_test[10]])\n",
        "\n",
        "print(\"Actual Value:\", data_pd.text[10])\n",
        "print(\"Predicted Value:\", model_prediction[0])"
      ],
      "metadata": {
        "colab": {
          "base_uri": "https://localhost:8080/"
        },
        "id": "PxnFJJVDuNex",
        "outputId": "0352fb4d-1526-4737-ce34-91cf88eea586"
      },
      "execution_count": 731,
      "outputs": [
        {
          "output_type": "stream",
          "name": "stdout",
          "text": [
            "Actual Value: Check this video out -- President Obama at the White House Correspondents' Dinner http://bit.ly/IMXUM\n",
            "Predicted Value: negative\n"
          ]
        }
      ]
    },
    {
      "cell_type": "markdown",
      "source": [
        "Model Evaluation Using New Data"
      ],
      "metadata": {
        "id": "sWGNNLcuFE0V"
      }
    },
    {
      "cell_type": "code",
      "source": [
        "my_sentence = input('')\n",
        "print((my_sentence, model_prediction[0], \"Confidence_Score:\", accuracy))"
      ],
      "metadata": {
        "colab": {
          "base_uri": "https://localhost:8080/"
        },
        "id": "KIh2Ng_wG3Fz",
        "outputId": "49ae0218-ec39-4080-ba81-130db4c0974b"
      },
      "execution_count": 732,
      "outputs": [
        {
          "output_type": "stream",
          "name": "stdout",
          "text": [
            "I like having morning coffee\n",
            "('I like having morning coffee', 'negative', 'Confidence_Score:', 0.62)\n"
          ]
        }
      ]
    },
    {
      "cell_type": "code",
      "source": [
        "my_sentence = \"I love you\"\n",
        "print((my_sentence, model_prediction[0], \"Confidence_Score:\", accuracy))"
      ],
      "metadata": {
        "colab": {
          "base_uri": "https://localhost:8080/"
        },
        "id": "wISRVbPGxPTZ",
        "outputId": "0470b5ce-c4bc-4096-b80c-8d876aac334a"
      },
      "execution_count": 733,
      "outputs": [
        {
          "output_type": "stream",
          "name": "stdout",
          "text": [
            "('I love you', 'negative', 'Confidence_Score:', 0.62)\n"
          ]
        }
      ]
    },
    {
      "cell_type": "code",
      "source": [
        "my_sentence = \"Thats kind of annoying!\"\n",
        "print((my_sentence, model_prediction[0], \"Confidence_Score:\", accuracy))"
      ],
      "metadata": {
        "colab": {
          "base_uri": "https://localhost:8080/"
        },
        "id": "h_bEmbEg3KVN",
        "outputId": "781018a7-beae-4173-fa11-134a4b0868c6"
      },
      "execution_count": 734,
      "outputs": [
        {
          "output_type": "stream",
          "name": "stdout",
          "text": [
            "('Thats kind of annoying!', 'negative', 'Confidence_Score:', 0.62)\n"
          ]
        }
      ]
    },
    {
      "cell_type": "code",
      "source": [
        "my_sentence = \"I hate going to that restaurant\"\n",
        "print((my_sentence, model_prediction[0], \"Confidence_Score:\", accuracy))"
      ],
      "metadata": {
        "colab": {
          "base_uri": "https://localhost:8080/"
        },
        "id": "YEnpuY7o0OQ2",
        "outputId": "603941ac-3c07-4f6a-d8b4-366446f7423f"
      },
      "execution_count": 735,
      "outputs": [
        {
          "output_type": "stream",
          "name": "stdout",
          "text": [
            "('I hate going to that restaurant', 'negative', 'Confidence_Score:', 0.62)\n"
          ]
        }
      ]
    }
  ]
}