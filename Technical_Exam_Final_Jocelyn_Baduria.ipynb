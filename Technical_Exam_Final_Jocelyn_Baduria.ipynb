{
  "nbformat": 4,
  "nbformat_minor": 0,
  "metadata": {
    "colab": {
      "provenance": [],
      "mount_file_id": "https://github.com/jocelynbaduria/Technical-Exam/blob/main/Technical_Exam_Final_Jocelyn_Baduria.ipynb",
      "authorship_tag": "ABX9TyNUifyvCswQ9hdMTEEJBroT",
      "include_colab_link": true
    },
    "kernelspec": {
      "name": "python3",
      "display_name": "Python 3"
    },
    "language_info": {
      "name": "python"
    }
  },
  "cells": [
    {
      "cell_type": "markdown",
      "metadata": {
        "id": "view-in-github",
        "colab_type": "text"
      },
      "source": [
        "<a href=\"https://colab.research.google.com/github/jocelynbaduria/Technical-Exam/blob/main/Technical_Exam_Final_Jocelyn_Baduria.ipynb\" target=\"_parent\"><img src=\"https://colab.research.google.com/assets/colab-badge.svg\" alt=\"Open In Colab\"/></a>"
      ]
    },
    {
      "cell_type": "code",
      "source": [
        "!pip install datatable"
      ],
      "metadata": {
        "colab": {
          "base_uri": "https://localhost:8080/"
        },
        "id": "8J8F3tmTFlUK",
        "outputId": "372530b0-d4e3-4ced-fbfd-72886cffa116"
      },
      "execution_count": 104,
      "outputs": [
        {
          "output_type": "stream",
          "name": "stdout",
          "text": [
            "Requirement already satisfied: datatable in /usr/local/lib/python3.10/dist-packages (1.1.0)\n"
          ]
        }
      ]
    },
    {
      "cell_type": "code",
      "execution_count": 105,
      "metadata": {
        "id": "QIxYpmlVom8A"
      },
      "outputs": [],
      "source": [
        "import numpy as np\n",
        "import matplotlib.pyplot as plt\n",
        "import pandas as pd\n",
        "import datatable as dt\n",
        "\n",
        "# Scaling the Dataset\n",
        "from sklearn.preprocessing import StandardScaler\n",
        "from sklearn.model_selection import train_test_split\n",
        "\n",
        "import sklearn.metrics as metrics\n",
        "from sklearn.metrics import recall_score\n",
        "from sklearn.metrics import f1_score\n",
        "from sklearn.metrics import precision_score\n",
        "\n",
        "from sklearn.metrics import confusion_matrix, accuracy_score, ConfusionMatrixDisplay\n",
        "from sklearn.metrics import classification_report\n",
        "\n",
        "from sklearn.ensemble import GradientBoostingClassifier\n",
        "from sklearn.neural_network import MLPClassifier\n",
        "from sklearn.neighbors import KNeighborsClassifier\n",
        "from sklearn.svm import SVC\n",
        "from sklearn.gaussian_process import GaussianProcessClassifier\n",
        "from sklearn.gaussian_process.kernels import RBF\n",
        "from sklearn.tree import DecisionTreeClassifier\n",
        "from sklearn.ensemble import RandomForestClassifier, AdaBoostClassifier\n",
        "from sklearn.naive_bayes import GaussianNB\n",
        "from sklearn.naive_bayes import MultinomialNB\n",
        "\n",
        "from sklearn.feature_extraction.text import TfidfVectorizer"
      ]
    },
    {
      "cell_type": "code",
      "source": [
        "DT = dt.fread('/content/drive/MyDrive/Technical Exam - Senior AI Machine Learning Engineer (2).zip (Unzipped Files)/sentiment_test_cases_1.csv')"
      ],
      "metadata": {
        "id": "3b5NOrAZGCS2"
      },
      "execution_count": 106,
      "outputs": []
    },
    {
      "cell_type": "code",
      "source": [
        "#Convert the csv file into pandas dataframe\n",
        "DT.head()"
      ],
      "metadata": {
        "colab": {
          "base_uri": "https://localhost:8080/",
          "height": 293
        },
        "id": "7_5YGALnGO7A",
        "outputId": "a46d5e25-de29-4382-e18b-03811926169f"
      },
      "execution_count": 107,
      "outputs": [
        {
          "output_type": "execute_result",
          "data": {
            "text/plain": [
              "<Frame#7840a984acd0 10x2>"
            ],
            "text/html": [
              "<div class='datatable'>\n",
              "  <table class='frame'>\n",
              "  <thead>\n",
              "    <tr class='colnames'><td class='row_index'></td><th>expected_sentiment</th><th>text</th></tr>\n",
              "    <tr class='coltypes'><td class='row_index'></td><td class='str' title='str32'>&#x25AA;&#x25AA;&#x25AA;&#x25AA;</td><td class='str' title='str32'>&#x25AA;&#x25AA;&#x25AA;&#x25AA;</td></tr>\n",
              "  </thead>\n",
              "  <tbody>\n",
              "    <tr><td class='row_index'>0</td><td>positive</td><td>@stellargirl I loooooooovvvvvveee my Kindle2. Not that the DX is cool, but the 2 is fantastic in its&#133;</td></tr>\n",
              "    <tr><td class='row_index'>1</td><td>positive</td><td>Reading my kindle2...  Love it... Lee childs is good read.</td></tr>\n",
              "    <tr><td class='row_index'>2</td><td>positive</td><td>Ok, first assesment of the #kindle2 ...it fucking rocks!!!</td></tr>\n",
              "    <tr><td class='row_index'>3</td><td>positive</td><td>@kenburbary You'll love your Kindle2. I've had mine for a few months and never looked back. The new &#133;</td></tr>\n",
              "    <tr><td class='row_index'>4</td><td>positive</td><td>@mikefish  Fair enough. But i have the Kindle2 and I think it's perfect  :)</td></tr>\n",
              "    <tr><td class='row_index'>5</td><td>positive</td><td>@richardebaker no. it is too big. I'm quite happy with the Kindle2.</td></tr>\n",
              "    <tr><td class='row_index'>6</td><td>negative</td><td>Fuck this economy. I hate aig and their non loan given asses.</td></tr>\n",
              "    <tr><td class='row_index'>7</td><td>positive</td><td>Jquery is my new best friend.</td></tr>\n",
              "    <tr><td class='row_index'>8</td><td>positive</td><td>Loves twitter</td></tr>\n",
              "    <tr><td class='row_index'>9</td><td>positive</td><td>how can you not love Obama? he makes jokes about himself.</td></tr>\n",
              "  </tbody>\n",
              "  </table>\n",
              "  <div class='footer'>\n",
              "    <div class='frame_dimensions'>10 rows &times; 2 columns</div>\n",
              "  </div>\n",
              "</div>\n"
            ]
          },
          "metadata": {},
          "execution_count": 107
        }
      ]
    },
    {
      "cell_type": "code",
      "source": [
        "data_pd = DT.to_pandas()"
      ],
      "metadata": {
        "id": "ULT3lqd9GHqQ"
      },
      "execution_count": 108,
      "outputs": []
    },
    {
      "cell_type": "code",
      "source": [
        "data_pd.head()"
      ],
      "metadata": {
        "colab": {
          "base_uri": "https://localhost:8080/",
          "height": 206
        },
        "id": "wWc3KfowGWyw",
        "outputId": "b7434236-a68c-479f-8edb-cf780d77c194"
      },
      "execution_count": 109,
      "outputs": [
        {
          "output_type": "execute_result",
          "data": {
            "text/plain": [
              "  expected_sentiment                                               text\n",
              "0           positive  @stellargirl I loooooooovvvvvveee my Kindle2. ...\n",
              "1           positive  Reading my kindle2...  Love it... Lee childs i...\n",
              "2           positive  Ok, first assesment of the #kindle2 ...it fuck...\n",
              "3           positive  @kenburbary You'll love your Kindle2. I've had...\n",
              "4           positive  @mikefish  Fair enough. But i have the Kindle2..."
            ],
            "text/html": [
              "\n",
              "  <div id=\"df-3f89c84a-7945-4fc5-a9da-4cba64ee3f16\" class=\"colab-df-container\">\n",
              "    <div>\n",
              "<style scoped>\n",
              "    .dataframe tbody tr th:only-of-type {\n",
              "        vertical-align: middle;\n",
              "    }\n",
              "\n",
              "    .dataframe tbody tr th {\n",
              "        vertical-align: top;\n",
              "    }\n",
              "\n",
              "    .dataframe thead th {\n",
              "        text-align: right;\n",
              "    }\n",
              "</style>\n",
              "<table border=\"1\" class=\"dataframe\">\n",
              "  <thead>\n",
              "    <tr style=\"text-align: right;\">\n",
              "      <th></th>\n",
              "      <th>expected_sentiment</th>\n",
              "      <th>text</th>\n",
              "    </tr>\n",
              "  </thead>\n",
              "  <tbody>\n",
              "    <tr>\n",
              "      <th>0</th>\n",
              "      <td>positive</td>\n",
              "      <td>@stellargirl I loooooooovvvvvveee my Kindle2. ...</td>\n",
              "    </tr>\n",
              "    <tr>\n",
              "      <th>1</th>\n",
              "      <td>positive</td>\n",
              "      <td>Reading my kindle2...  Love it... Lee childs i...</td>\n",
              "    </tr>\n",
              "    <tr>\n",
              "      <th>2</th>\n",
              "      <td>positive</td>\n",
              "      <td>Ok, first assesment of the #kindle2 ...it fuck...</td>\n",
              "    </tr>\n",
              "    <tr>\n",
              "      <th>3</th>\n",
              "      <td>positive</td>\n",
              "      <td>@kenburbary You'll love your Kindle2. I've had...</td>\n",
              "    </tr>\n",
              "    <tr>\n",
              "      <th>4</th>\n",
              "      <td>positive</td>\n",
              "      <td>@mikefish  Fair enough. But i have the Kindle2...</td>\n",
              "    </tr>\n",
              "  </tbody>\n",
              "</table>\n",
              "</div>\n",
              "    <div class=\"colab-df-buttons\">\n",
              "\n",
              "  <div class=\"colab-df-container\">\n",
              "    <button class=\"colab-df-convert\" onclick=\"convertToInteractive('df-3f89c84a-7945-4fc5-a9da-4cba64ee3f16')\"\n",
              "            title=\"Convert this dataframe to an interactive table.\"\n",
              "            style=\"display:none;\">\n",
              "\n",
              "  <svg xmlns=\"http://www.w3.org/2000/svg\" height=\"24px\" viewBox=\"0 -960 960 960\">\n",
              "    <path d=\"M120-120v-720h720v720H120Zm60-500h600v-160H180v160Zm220 220h160v-160H400v160Zm0 220h160v-160H400v160ZM180-400h160v-160H180v160Zm440 0h160v-160H620v160ZM180-180h160v-160H180v160Zm440 0h160v-160H620v160Z\"/>\n",
              "  </svg>\n",
              "    </button>\n",
              "\n",
              "  <style>\n",
              "    .colab-df-container {\n",
              "      display:flex;\n",
              "      gap: 12px;\n",
              "    }\n",
              "\n",
              "    .colab-df-convert {\n",
              "      background-color: #E8F0FE;\n",
              "      border: none;\n",
              "      border-radius: 50%;\n",
              "      cursor: pointer;\n",
              "      display: none;\n",
              "      fill: #1967D2;\n",
              "      height: 32px;\n",
              "      padding: 0 0 0 0;\n",
              "      width: 32px;\n",
              "    }\n",
              "\n",
              "    .colab-df-convert:hover {\n",
              "      background-color: #E2EBFA;\n",
              "      box-shadow: 0px 1px 2px rgba(60, 64, 67, 0.3), 0px 1px 3px 1px rgba(60, 64, 67, 0.15);\n",
              "      fill: #174EA6;\n",
              "    }\n",
              "\n",
              "    .colab-df-buttons div {\n",
              "      margin-bottom: 4px;\n",
              "    }\n",
              "\n",
              "    [theme=dark] .colab-df-convert {\n",
              "      background-color: #3B4455;\n",
              "      fill: #D2E3FC;\n",
              "    }\n",
              "\n",
              "    [theme=dark] .colab-df-convert:hover {\n",
              "      background-color: #434B5C;\n",
              "      box-shadow: 0px 1px 3px 1px rgba(0, 0, 0, 0.15);\n",
              "      filter: drop-shadow(0px 1px 2px rgba(0, 0, 0, 0.3));\n",
              "      fill: #FFFFFF;\n",
              "    }\n",
              "  </style>\n",
              "\n",
              "    <script>\n",
              "      const buttonEl =\n",
              "        document.querySelector('#df-3f89c84a-7945-4fc5-a9da-4cba64ee3f16 button.colab-df-convert');\n",
              "      buttonEl.style.display =\n",
              "        google.colab.kernel.accessAllowed ? 'block' : 'none';\n",
              "\n",
              "      async function convertToInteractive(key) {\n",
              "        const element = document.querySelector('#df-3f89c84a-7945-4fc5-a9da-4cba64ee3f16');\n",
              "        const dataTable =\n",
              "          await google.colab.kernel.invokeFunction('convertToInteractive',\n",
              "                                                    [key], {});\n",
              "        if (!dataTable) return;\n",
              "\n",
              "        const docLinkHtml = 'Like what you see? Visit the ' +\n",
              "          '<a target=\"_blank\" href=https://colab.research.google.com/notebooks/data_table.ipynb>data table notebook</a>'\n",
              "          + ' to learn more about interactive tables.';\n",
              "        element.innerHTML = '';\n",
              "        dataTable['output_type'] = 'display_data';\n",
              "        await google.colab.output.renderOutput(dataTable, element);\n",
              "        const docLink = document.createElement('div');\n",
              "        docLink.innerHTML = docLinkHtml;\n",
              "        element.appendChild(docLink);\n",
              "      }\n",
              "    </script>\n",
              "  </div>\n",
              "\n",
              "\n",
              "<div id=\"df-286adaa1-3afc-4a7f-92a8-db77fa3c6e58\">\n",
              "  <button class=\"colab-df-quickchart\" onclick=\"quickchart('df-286adaa1-3afc-4a7f-92a8-db77fa3c6e58')\"\n",
              "            title=\"Suggest charts\"\n",
              "            style=\"display:none;\">\n",
              "\n",
              "<svg xmlns=\"http://www.w3.org/2000/svg\" height=\"24px\"viewBox=\"0 0 24 24\"\n",
              "     width=\"24px\">\n",
              "    <g>\n",
              "        <path d=\"M19 3H5c-1.1 0-2 .9-2 2v14c0 1.1.9 2 2 2h14c1.1 0 2-.9 2-2V5c0-1.1-.9-2-2-2zM9 17H7v-7h2v7zm4 0h-2V7h2v10zm4 0h-2v-4h2v4z\"/>\n",
              "    </g>\n",
              "</svg>\n",
              "  </button>\n",
              "\n",
              "<style>\n",
              "  .colab-df-quickchart {\n",
              "      --bg-color: #E8F0FE;\n",
              "      --fill-color: #1967D2;\n",
              "      --hover-bg-color: #E2EBFA;\n",
              "      --hover-fill-color: #174EA6;\n",
              "      --disabled-fill-color: #AAA;\n",
              "      --disabled-bg-color: #DDD;\n",
              "  }\n",
              "\n",
              "  [theme=dark] .colab-df-quickchart {\n",
              "      --bg-color: #3B4455;\n",
              "      --fill-color: #D2E3FC;\n",
              "      --hover-bg-color: #434B5C;\n",
              "      --hover-fill-color: #FFFFFF;\n",
              "      --disabled-bg-color: #3B4455;\n",
              "      --disabled-fill-color: #666;\n",
              "  }\n",
              "\n",
              "  .colab-df-quickchart {\n",
              "    background-color: var(--bg-color);\n",
              "    border: none;\n",
              "    border-radius: 50%;\n",
              "    cursor: pointer;\n",
              "    display: none;\n",
              "    fill: var(--fill-color);\n",
              "    height: 32px;\n",
              "    padding: 0;\n",
              "    width: 32px;\n",
              "  }\n",
              "\n",
              "  .colab-df-quickchart:hover {\n",
              "    background-color: var(--hover-bg-color);\n",
              "    box-shadow: 0 1px 2px rgba(60, 64, 67, 0.3), 0 1px 3px 1px rgba(60, 64, 67, 0.15);\n",
              "    fill: var(--button-hover-fill-color);\n",
              "  }\n",
              "\n",
              "  .colab-df-quickchart-complete:disabled,\n",
              "  .colab-df-quickchart-complete:disabled:hover {\n",
              "    background-color: var(--disabled-bg-color);\n",
              "    fill: var(--disabled-fill-color);\n",
              "    box-shadow: none;\n",
              "  }\n",
              "\n",
              "  .colab-df-spinner {\n",
              "    border: 2px solid var(--fill-color);\n",
              "    border-color: transparent;\n",
              "    border-bottom-color: var(--fill-color);\n",
              "    animation:\n",
              "      spin 1s steps(1) infinite;\n",
              "  }\n",
              "\n",
              "  @keyframes spin {\n",
              "    0% {\n",
              "      border-color: transparent;\n",
              "      border-bottom-color: var(--fill-color);\n",
              "      border-left-color: var(--fill-color);\n",
              "    }\n",
              "    20% {\n",
              "      border-color: transparent;\n",
              "      border-left-color: var(--fill-color);\n",
              "      border-top-color: var(--fill-color);\n",
              "    }\n",
              "    30% {\n",
              "      border-color: transparent;\n",
              "      border-left-color: var(--fill-color);\n",
              "      border-top-color: var(--fill-color);\n",
              "      border-right-color: var(--fill-color);\n",
              "    }\n",
              "    40% {\n",
              "      border-color: transparent;\n",
              "      border-right-color: var(--fill-color);\n",
              "      border-top-color: var(--fill-color);\n",
              "    }\n",
              "    60% {\n",
              "      border-color: transparent;\n",
              "      border-right-color: var(--fill-color);\n",
              "    }\n",
              "    80% {\n",
              "      border-color: transparent;\n",
              "      border-right-color: var(--fill-color);\n",
              "      border-bottom-color: var(--fill-color);\n",
              "    }\n",
              "    90% {\n",
              "      border-color: transparent;\n",
              "      border-bottom-color: var(--fill-color);\n",
              "    }\n",
              "  }\n",
              "</style>\n",
              "\n",
              "  <script>\n",
              "    async function quickchart(key) {\n",
              "      const quickchartButtonEl =\n",
              "        document.querySelector('#' + key + ' button');\n",
              "      quickchartButtonEl.disabled = true;  // To prevent multiple clicks.\n",
              "      quickchartButtonEl.classList.add('colab-df-spinner');\n",
              "      try {\n",
              "        const charts = await google.colab.kernel.invokeFunction(\n",
              "            'suggestCharts', [key], {});\n",
              "      } catch (error) {\n",
              "        console.error('Error during call to suggestCharts:', error);\n",
              "      }\n",
              "      quickchartButtonEl.classList.remove('colab-df-spinner');\n",
              "      quickchartButtonEl.classList.add('colab-df-quickchart-complete');\n",
              "    }\n",
              "    (() => {\n",
              "      let quickchartButtonEl =\n",
              "        document.querySelector('#df-286adaa1-3afc-4a7f-92a8-db77fa3c6e58 button');\n",
              "      quickchartButtonEl.style.display =\n",
              "        google.colab.kernel.accessAllowed ? 'block' : 'none';\n",
              "    })();\n",
              "  </script>\n",
              "</div>\n",
              "    </div>\n",
              "  </div>\n"
            ]
          },
          "metadata": {},
          "execution_count": 109
        }
      ]
    },
    {
      "cell_type": "markdown",
      "source": [
        "Swap the columns text and expected_sentiment"
      ],
      "metadata": {
        "id": "e9V4AJ02IXic"
      }
    },
    {
      "cell_type": "code",
      "source": [
        "column_names = ['text', 'expected_sentiment']"
      ],
      "metadata": {
        "id": "7jg-3tuT5q86"
      },
      "execution_count": 110,
      "outputs": []
    },
    {
      "cell_type": "code",
      "source": [
        "data_pd = data_pd.reindex(columns=column_names)"
      ],
      "metadata": {
        "id": "7Te-jXhS6PGO"
      },
      "execution_count": 111,
      "outputs": []
    },
    {
      "cell_type": "markdown",
      "source": [
        "Check if columns are swapped"
      ],
      "metadata": {
        "id": "WBVaSQcmk0u3"
      }
    },
    {
      "cell_type": "code",
      "source": [
        "print(data_pd)"
      ],
      "metadata": {
        "colab": {
          "base_uri": "https://localhost:8080/"
        },
        "id": "HD_eMr-SvL5J",
        "outputId": "7db6acda-016f-4acf-bbdf-bc9bff6cf14e"
      },
      "execution_count": 112,
      "outputs": [
        {
          "output_type": "stream",
          "name": "stdout",
          "text": [
            "                                                  text expected_sentiment\n",
            "0    @stellargirl I loooooooovvvvvveee my Kindle2. ...           positive\n",
            "1    Reading my kindle2...  Love it... Lee childs i...           positive\n",
            "2    Ok, first assesment of the #kindle2 ...it fuck...           positive\n",
            "3    @kenburbary You'll love your Kindle2. I've had...           positive\n",
            "4    @mikefish  Fair enough. But i have the Kindle2...           positive\n",
            "..                                                 ...                ...\n",
            "493  Ask Programming: LaTeX or InDesign?: submitted...            neutral\n",
            "494  On that note, I hate Word. I hate Pages. I hat...           negative\n",
            "495  Ahhh... back in a *real* text editing environm...           positive\n",
            "496  Trouble in Iran, I see. Hmm. Iran. Iran so far...           negative\n",
            "497  Reading the tweets coming out of Iran... The w...           negative\n",
            "\n",
            "[498 rows x 2 columns]\n"
          ]
        }
      ]
    },
    {
      "cell_type": "code",
      "source": [
        "# Save the dataframe to a CSV file\n",
        "data_pd.to_csv('/content/drive/MyDrive/Technical Exam - Senior AI Machine Learning Engineer (2).zip (Unzipped Files)/sentiment_test_cases.csv', index=False)"
      ],
      "metadata": {
        "id": "IgCE1Vrz5AhI"
      },
      "execution_count": 113,
      "outputs": []
    },
    {
      "cell_type": "code",
      "source": [
        "print(data_pd['expected_sentiment'])"
      ],
      "metadata": {
        "colab": {
          "base_uri": "https://localhost:8080/"
        },
        "id": "VTp-gxyrkOZ5",
        "outputId": "668c481d-66f0-44f5-da18-cf0f4dfe616a"
      },
      "execution_count": 114,
      "outputs": [
        {
          "output_type": "stream",
          "name": "stdout",
          "text": [
            "0      positive\n",
            "1      positive\n",
            "2      positive\n",
            "3      positive\n",
            "4      positive\n",
            "         ...   \n",
            "493     neutral\n",
            "494    negative\n",
            "495    positive\n",
            "496    negative\n",
            "497    negative\n",
            "Name: expected_sentiment, Length: 498, dtype: object\n"
          ]
        }
      ]
    },
    {
      "cell_type": "code",
      "source": [
        "print(data_pd['text'])"
      ],
      "metadata": {
        "colab": {
          "base_uri": "https://localhost:8080/"
        },
        "id": "g12RvY6mvKkq",
        "outputId": "6cf4caf1-8696-4cb5-9332-7028cc151a19"
      },
      "execution_count": 115,
      "outputs": [
        {
          "output_type": "stream",
          "name": "stdout",
          "text": [
            "0      @stellargirl I loooooooovvvvvveee my Kindle2. ...\n",
            "1      Reading my kindle2...  Love it... Lee childs i...\n",
            "2      Ok, first assesment of the #kindle2 ...it fuck...\n",
            "3      @kenburbary You'll love your Kindle2. I've had...\n",
            "4      @mikefish  Fair enough. But i have the Kindle2...\n",
            "                             ...                        \n",
            "493    Ask Programming: LaTeX or InDesign?: submitted...\n",
            "494    On that note, I hate Word. I hate Pages. I hat...\n",
            "495    Ahhh... back in a *real* text editing environm...\n",
            "496    Trouble in Iran, I see. Hmm. Iran. Iran so far...\n",
            "497    Reading the tweets coming out of Iran... The w...\n",
            "Name: text, Length: 498, dtype: object\n"
          ]
        }
      ]
    },
    {
      "cell_type": "markdown",
      "source": [
        "Cleaning the text for preparation of sentiment analysis"
      ],
      "metadata": {
        "id": "pA1HcqTaIkn2"
      }
    },
    {
      "cell_type": "code",
      "source": [
        "# Stop words is a list of really common words, like articles, pronouns, prepositions, and conjunctions\n",
        "import re\n",
        "import nltk\n",
        "nltk.download('stopwords')\n",
        "from nltk.corpus import stopwords\n",
        "from nltk.stem.porter import PorterStemmer\n",
        "corpus = []"
      ],
      "metadata": {
        "colab": {
          "base_uri": "https://localhost:8080/"
        },
        "id": "uSc9Jyc_tC6K",
        "outputId": "abbbf2df-8b86-4ea0-92ee-2aa3662c2f7c"
      },
      "execution_count": 116,
      "outputs": [
        {
          "output_type": "stream",
          "name": "stderr",
          "text": [
            "[nltk_data] Downloading package stopwords to /root/nltk_data...\n",
            "[nltk_data]   Package stopwords is already up-to-date!\n"
          ]
        }
      ]
    },
    {
      "cell_type": "code",
      "source": [
        "# We need to keep the word not in a sentence to know when a statement is being negated.\n",
        "for i in range(0, 498):\n",
        "  review = re.sub('[^a-zA-Z]', ' ', data_pd['text'][i])\n",
        "  review = review.lower()\n",
        "  review = review.split()\n",
        "  ps = PorterStemmer()\n",
        "  all_stopwords = stopwords.words('english')\n",
        "  all_stopwords.remove('not')\n",
        "  review = [ps.stem(word) for word in review if not word in set(all_stopwords)]\n",
        "  review = ' '.join(review)\n",
        "  corpus.append(review)"
      ],
      "metadata": {
        "id": "GuPMC9pM0U6-"
      },
      "execution_count": 117,
      "outputs": []
    },
    {
      "cell_type": "code",
      "source": [
        "print(corpus[0:5])"
      ],
      "metadata": {
        "colab": {
          "base_uri": "https://localhost:8080/"
        },
        "id": "M0STGkMeHx5_",
        "outputId": "dbbc0703-f2f1-4ca2-8ad3-0ee577840c24"
      },
      "execution_count": 118,
      "outputs": [
        {
          "output_type": "stream",
          "name": "stdout",
          "text": [
            "['stellargirl loooooooovvvvvvee kindl not dx cool fantast right', 'read kindl love lee child good read', 'ok first asses kindl fuck rock', 'kenburbari love kindl mine month never look back new big one huge need remors', 'mikefish fair enough kindl think perfect']\n"
          ]
        }
      ]
    },
    {
      "cell_type": "markdown",
      "source": [
        "Countvectorizing to encode text into vectors for training the model and creating Bag of Words"
      ],
      "metadata": {
        "id": "e4wsSYZCI_R1"
      }
    },
    {
      "cell_type": "code",
      "source": [
        "from sklearn.feature_extraction.text import CountVectorizer\n",
        "cv = CountVectorizer(max_features = 498)\n",
        "X_transform = cv.fit_transform(corpus).toarray()\n",
        "y_transform = data_pd.iloc[:, -1].values"
      ],
      "metadata": {
        "id": "IriYoD6hHzxn"
      },
      "execution_count": 119,
      "outputs": []
    },
    {
      "cell_type": "markdown",
      "source": [
        "Converted text into numerical vectors embedding"
      ],
      "metadata": {
        "id": "kviLwJL9lsf_"
      }
    },
    {
      "cell_type": "code",
      "source": [
        "print(X_transform)"
      ],
      "metadata": {
        "colab": {
          "base_uri": "https://localhost:8080/"
        },
        "id": "zYElVqp2B4ZA",
        "outputId": "635b909c-080d-4326-d359-1e161e47d9c7"
      },
      "execution_count": 120,
      "outputs": [
        {
          "output_type": "stream",
          "name": "stdout",
          "text": [
            "[[0 0 0 ... 0 0 0]\n",
            " [0 0 0 ... 0 0 0]\n",
            " [0 0 0 ... 0 0 0]\n",
            " ...\n",
            " [0 0 0 ... 0 0 0]\n",
            " [0 0 0 ... 0 0 0]\n",
            " [0 0 0 ... 0 0 0]]\n"
          ]
        }
      ]
    },
    {
      "cell_type": "code",
      "source": [
        "print(X_transform.shape)\n",
        "print(y_transform.shape)"
      ],
      "metadata": {
        "colab": {
          "base_uri": "https://localhost:8080/"
        },
        "id": "-xFByQvEJxm-",
        "outputId": "f54142fa-dcd7-42af-ec1a-cb9ef55672ca"
      },
      "execution_count": 121,
      "outputs": [
        {
          "output_type": "stream",
          "name": "stdout",
          "text": [
            "(498, 498)\n",
            "(498,)\n"
          ]
        }
      ]
    },
    {
      "cell_type": "markdown",
      "source": [
        "### Splitting the Dataset into Training and test set. Perform Model training of different models to compare each model classifier accuracy. Gradient Boosting Classifier achieves the highest performance 68% accuracy. Models trained will not provide accurate results because of lowest accuracy below 80%.\n"
      ],
      "metadata": {
        "id": "YX1w0NEiJOXl"
      }
    },
    {
      "cell_type": "code",
      "source": [
        "from sklearn.model_selection import train_test_split\n",
        "import time\n",
        "\n",
        "scaler = StandardScaler()\n",
        "X_1 = scaler.fit_transform(X_transform)\n",
        "\n",
        "X_train, X_test, y_train, y_test = train_test_split(X_1, y_transform, test_size = 0.20, random_state=0)\n",
        "\n",
        "#second error need to convert column vector y to an 1D array as expected for training one feature\n",
        "# y_train = y_train.values.ravel()\n",
        "\n",
        "names = [\"Gaussian Naive Bayes\",\"Decision Tree\", \"MLP Neural Net\", \"RandomForestClassifier\", \"GradientBoostingClassifier\"]\n",
        "\n",
        "classifiers = [\n",
        "    GaussianNB(var_smoothing=1e-09),\n",
        "    DecisionTreeClassifier(max_depth=5),\n",
        "    MLPClassifier(solver='adam',alpha=1, max_iter=1000),\n",
        "    RandomForestClassifier(max_depth=5, n_estimators=10, max_features=1),\n",
        "    GradientBoostingClassifier(loss='deviance', learning_rate=0.1, n_estimators=100)\n",
        "    ]\n",
        "output = pd.DataFrame(columns=['classifier','f1-score', 'precision', 'recall', 'accuracy'])\n",
        "\n",
        "max_score = 0.0\n",
        "max_class = ''\n",
        "# iterate over classifiers\n",
        "\n",
        "for name, clf in zip(names, classifiers):\n",
        "\n",
        "    start_time = time.process_time()\n",
        "    clf.fit(X_train, y_train)\n",
        "    y_predict = clf.predict(X_test)\n",
        "\n",
        "    score = (clf.score(X_test, y_test))*100\n",
        "\n",
        "    precision = np.round(metrics.precision_score(y_test, y_predict, average='macro'),2)\n",
        "    recall = np.round(metrics.recall_score(y_test, y_predict, average='macro'),2)\n",
        "    f1 = np.round(metrics.f1_score(y_test, y_predict, average='macro'),2)\n",
        "\n",
        "    output = output.append({'classifier': name,'f1-score':f1, 'precision':precision,'recall':recall,'accuracy':score}, ignore_index=True)\n",
        "\n",
        "    if score > max_score:\n",
        "        clf_best = clf\n",
        "        max_score = score\n",
        "        max_class = name\n",
        "\n",
        "print(80*'-' )\n",
        "print('Best --> Classifier = %s, Score (test, accuracy) = %.2f' %(max_class, max_score))\n",
        "display(output)"
      ],
      "metadata": {
        "colab": {
          "base_uri": "https://localhost:8080/",
          "height": 469
        },
        "id": "E6dmq_t8ScEL",
        "outputId": "bb47306b-653c-4c3e-d02f-560a64b08a79"
      },
      "execution_count": 122,
      "outputs": [
        {
          "output_type": "stream",
          "name": "stderr",
          "text": [
            "<ipython-input-122-40aae1d21afc>:39: FutureWarning: The frame.append method is deprecated and will be removed from pandas in a future version. Use pandas.concat instead.\n",
            "  output = output.append({'classifier': name,'f1-score':f1, 'precision':precision,'recall':recall,'accuracy':score}, ignore_index=True)\n",
            "<ipython-input-122-40aae1d21afc>:39: FutureWarning: The frame.append method is deprecated and will be removed from pandas in a future version. Use pandas.concat instead.\n",
            "  output = output.append({'classifier': name,'f1-score':f1, 'precision':precision,'recall':recall,'accuracy':score}, ignore_index=True)\n",
            "<ipython-input-122-40aae1d21afc>:39: FutureWarning: The frame.append method is deprecated and will be removed from pandas in a future version. Use pandas.concat instead.\n",
            "  output = output.append({'classifier': name,'f1-score':f1, 'precision':precision,'recall':recall,'accuracy':score}, ignore_index=True)\n",
            "<ipython-input-122-40aae1d21afc>:39: FutureWarning: The frame.append method is deprecated and will be removed from pandas in a future version. Use pandas.concat instead.\n",
            "  output = output.append({'classifier': name,'f1-score':f1, 'precision':precision,'recall':recall,'accuracy':score}, ignore_index=True)\n",
            "/usr/local/lib/python3.10/dist-packages/sklearn/ensemble/_gb.py:280: FutureWarning: The loss parameter name 'deviance' was deprecated in v1.1 and will be removed in version 1.3. Use the new parameter name 'log_loss' which is equivalent.\n",
            "  warnings.warn(\n"
          ]
        },
        {
          "output_type": "stream",
          "name": "stdout",
          "text": [
            "--------------------------------------------------------------------------------\n",
            "Best --> Classifier = GradientBoostingClassifier, Score (test, accuracy) = 66.00\n"
          ]
        },
        {
          "output_type": "stream",
          "name": "stderr",
          "text": [
            "<ipython-input-122-40aae1d21afc>:39: FutureWarning: The frame.append method is deprecated and will be removed from pandas in a future version. Use pandas.concat instead.\n",
            "  output = output.append({'classifier': name,'f1-score':f1, 'precision':precision,'recall':recall,'accuracy':score}, ignore_index=True)\n"
          ]
        },
        {
          "output_type": "display_data",
          "data": {
            "text/plain": [
              "                   classifier  f1-score  precision  recall  accuracy\n",
              "0        Gaussian Naive Bayes      0.59       0.59    0.59      59.0\n",
              "1               Decision Tree      0.63       0.73    0.63      65.0\n",
              "2              MLP Neural Net      0.60       0.62    0.60      60.0\n",
              "3      RandomForestClassifier      0.34       0.61    0.39      40.0\n",
              "4  GradientBoostingClassifier      0.66       0.66    0.66      66.0"
            ],
            "text/html": [
              "\n",
              "  <div id=\"df-046896f5-8af1-45ed-a7db-ae487d9fbde5\" class=\"colab-df-container\">\n",
              "    <div>\n",
              "<style scoped>\n",
              "    .dataframe tbody tr th:only-of-type {\n",
              "        vertical-align: middle;\n",
              "    }\n",
              "\n",
              "    .dataframe tbody tr th {\n",
              "        vertical-align: top;\n",
              "    }\n",
              "\n",
              "    .dataframe thead th {\n",
              "        text-align: right;\n",
              "    }\n",
              "</style>\n",
              "<table border=\"1\" class=\"dataframe\">\n",
              "  <thead>\n",
              "    <tr style=\"text-align: right;\">\n",
              "      <th></th>\n",
              "      <th>classifier</th>\n",
              "      <th>f1-score</th>\n",
              "      <th>precision</th>\n",
              "      <th>recall</th>\n",
              "      <th>accuracy</th>\n",
              "    </tr>\n",
              "  </thead>\n",
              "  <tbody>\n",
              "    <tr>\n",
              "      <th>0</th>\n",
              "      <td>Gaussian Naive Bayes</td>\n",
              "      <td>0.59</td>\n",
              "      <td>0.59</td>\n",
              "      <td>0.59</td>\n",
              "      <td>59.0</td>\n",
              "    </tr>\n",
              "    <tr>\n",
              "      <th>1</th>\n",
              "      <td>Decision Tree</td>\n",
              "      <td>0.63</td>\n",
              "      <td>0.73</td>\n",
              "      <td>0.63</td>\n",
              "      <td>65.0</td>\n",
              "    </tr>\n",
              "    <tr>\n",
              "      <th>2</th>\n",
              "      <td>MLP Neural Net</td>\n",
              "      <td>0.60</td>\n",
              "      <td>0.62</td>\n",
              "      <td>0.60</td>\n",
              "      <td>60.0</td>\n",
              "    </tr>\n",
              "    <tr>\n",
              "      <th>3</th>\n",
              "      <td>RandomForestClassifier</td>\n",
              "      <td>0.34</td>\n",
              "      <td>0.61</td>\n",
              "      <td>0.39</td>\n",
              "      <td>40.0</td>\n",
              "    </tr>\n",
              "    <tr>\n",
              "      <th>4</th>\n",
              "      <td>GradientBoostingClassifier</td>\n",
              "      <td>0.66</td>\n",
              "      <td>0.66</td>\n",
              "      <td>0.66</td>\n",
              "      <td>66.0</td>\n",
              "    </tr>\n",
              "  </tbody>\n",
              "</table>\n",
              "</div>\n",
              "    <div class=\"colab-df-buttons\">\n",
              "\n",
              "  <div class=\"colab-df-container\">\n",
              "    <button class=\"colab-df-convert\" onclick=\"convertToInteractive('df-046896f5-8af1-45ed-a7db-ae487d9fbde5')\"\n",
              "            title=\"Convert this dataframe to an interactive table.\"\n",
              "            style=\"display:none;\">\n",
              "\n",
              "  <svg xmlns=\"http://www.w3.org/2000/svg\" height=\"24px\" viewBox=\"0 -960 960 960\">\n",
              "    <path d=\"M120-120v-720h720v720H120Zm60-500h600v-160H180v160Zm220 220h160v-160H400v160Zm0 220h160v-160H400v160ZM180-400h160v-160H180v160Zm440 0h160v-160H620v160ZM180-180h160v-160H180v160Zm440 0h160v-160H620v160Z\"/>\n",
              "  </svg>\n",
              "    </button>\n",
              "\n",
              "  <style>\n",
              "    .colab-df-container {\n",
              "      display:flex;\n",
              "      gap: 12px;\n",
              "    }\n",
              "\n",
              "    .colab-df-convert {\n",
              "      background-color: #E8F0FE;\n",
              "      border: none;\n",
              "      border-radius: 50%;\n",
              "      cursor: pointer;\n",
              "      display: none;\n",
              "      fill: #1967D2;\n",
              "      height: 32px;\n",
              "      padding: 0 0 0 0;\n",
              "      width: 32px;\n",
              "    }\n",
              "\n",
              "    .colab-df-convert:hover {\n",
              "      background-color: #E2EBFA;\n",
              "      box-shadow: 0px 1px 2px rgba(60, 64, 67, 0.3), 0px 1px 3px 1px rgba(60, 64, 67, 0.15);\n",
              "      fill: #174EA6;\n",
              "    }\n",
              "\n",
              "    .colab-df-buttons div {\n",
              "      margin-bottom: 4px;\n",
              "    }\n",
              "\n",
              "    [theme=dark] .colab-df-convert {\n",
              "      background-color: #3B4455;\n",
              "      fill: #D2E3FC;\n",
              "    }\n",
              "\n",
              "    [theme=dark] .colab-df-convert:hover {\n",
              "      background-color: #434B5C;\n",
              "      box-shadow: 0px 1px 3px 1px rgba(0, 0, 0, 0.15);\n",
              "      filter: drop-shadow(0px 1px 2px rgba(0, 0, 0, 0.3));\n",
              "      fill: #FFFFFF;\n",
              "    }\n",
              "  </style>\n",
              "\n",
              "    <script>\n",
              "      const buttonEl =\n",
              "        document.querySelector('#df-046896f5-8af1-45ed-a7db-ae487d9fbde5 button.colab-df-convert');\n",
              "      buttonEl.style.display =\n",
              "        google.colab.kernel.accessAllowed ? 'block' : 'none';\n",
              "\n",
              "      async function convertToInteractive(key) {\n",
              "        const element = document.querySelector('#df-046896f5-8af1-45ed-a7db-ae487d9fbde5');\n",
              "        const dataTable =\n",
              "          await google.colab.kernel.invokeFunction('convertToInteractive',\n",
              "                                                    [key], {});\n",
              "        if (!dataTable) return;\n",
              "\n",
              "        const docLinkHtml = 'Like what you see? Visit the ' +\n",
              "          '<a target=\"_blank\" href=https://colab.research.google.com/notebooks/data_table.ipynb>data table notebook</a>'\n",
              "          + ' to learn more about interactive tables.';\n",
              "        element.innerHTML = '';\n",
              "        dataTable['output_type'] = 'display_data';\n",
              "        await google.colab.output.renderOutput(dataTable, element);\n",
              "        const docLink = document.createElement('div');\n",
              "        docLink.innerHTML = docLinkHtml;\n",
              "        element.appendChild(docLink);\n",
              "      }\n",
              "    </script>\n",
              "  </div>\n",
              "\n",
              "\n",
              "<div id=\"df-69827dd5-7d14-4d5f-b991-c3e6e7a21ada\">\n",
              "  <button class=\"colab-df-quickchart\" onclick=\"quickchart('df-69827dd5-7d14-4d5f-b991-c3e6e7a21ada')\"\n",
              "            title=\"Suggest charts\"\n",
              "            style=\"display:none;\">\n",
              "\n",
              "<svg xmlns=\"http://www.w3.org/2000/svg\" height=\"24px\"viewBox=\"0 0 24 24\"\n",
              "     width=\"24px\">\n",
              "    <g>\n",
              "        <path d=\"M19 3H5c-1.1 0-2 .9-2 2v14c0 1.1.9 2 2 2h14c1.1 0 2-.9 2-2V5c0-1.1-.9-2-2-2zM9 17H7v-7h2v7zm4 0h-2V7h2v10zm4 0h-2v-4h2v4z\"/>\n",
              "    </g>\n",
              "</svg>\n",
              "  </button>\n",
              "\n",
              "<style>\n",
              "  .colab-df-quickchart {\n",
              "      --bg-color: #E8F0FE;\n",
              "      --fill-color: #1967D2;\n",
              "      --hover-bg-color: #E2EBFA;\n",
              "      --hover-fill-color: #174EA6;\n",
              "      --disabled-fill-color: #AAA;\n",
              "      --disabled-bg-color: #DDD;\n",
              "  }\n",
              "\n",
              "  [theme=dark] .colab-df-quickchart {\n",
              "      --bg-color: #3B4455;\n",
              "      --fill-color: #D2E3FC;\n",
              "      --hover-bg-color: #434B5C;\n",
              "      --hover-fill-color: #FFFFFF;\n",
              "      --disabled-bg-color: #3B4455;\n",
              "      --disabled-fill-color: #666;\n",
              "  }\n",
              "\n",
              "  .colab-df-quickchart {\n",
              "    background-color: var(--bg-color);\n",
              "    border: none;\n",
              "    border-radius: 50%;\n",
              "    cursor: pointer;\n",
              "    display: none;\n",
              "    fill: var(--fill-color);\n",
              "    height: 32px;\n",
              "    padding: 0;\n",
              "    width: 32px;\n",
              "  }\n",
              "\n",
              "  .colab-df-quickchart:hover {\n",
              "    background-color: var(--hover-bg-color);\n",
              "    box-shadow: 0 1px 2px rgba(60, 64, 67, 0.3), 0 1px 3px 1px rgba(60, 64, 67, 0.15);\n",
              "    fill: var(--button-hover-fill-color);\n",
              "  }\n",
              "\n",
              "  .colab-df-quickchart-complete:disabled,\n",
              "  .colab-df-quickchart-complete:disabled:hover {\n",
              "    background-color: var(--disabled-bg-color);\n",
              "    fill: var(--disabled-fill-color);\n",
              "    box-shadow: none;\n",
              "  }\n",
              "\n",
              "  .colab-df-spinner {\n",
              "    border: 2px solid var(--fill-color);\n",
              "    border-color: transparent;\n",
              "    border-bottom-color: var(--fill-color);\n",
              "    animation:\n",
              "      spin 1s steps(1) infinite;\n",
              "  }\n",
              "\n",
              "  @keyframes spin {\n",
              "    0% {\n",
              "      border-color: transparent;\n",
              "      border-bottom-color: var(--fill-color);\n",
              "      border-left-color: var(--fill-color);\n",
              "    }\n",
              "    20% {\n",
              "      border-color: transparent;\n",
              "      border-left-color: var(--fill-color);\n",
              "      border-top-color: var(--fill-color);\n",
              "    }\n",
              "    30% {\n",
              "      border-color: transparent;\n",
              "      border-left-color: var(--fill-color);\n",
              "      border-top-color: var(--fill-color);\n",
              "      border-right-color: var(--fill-color);\n",
              "    }\n",
              "    40% {\n",
              "      border-color: transparent;\n",
              "      border-right-color: var(--fill-color);\n",
              "      border-top-color: var(--fill-color);\n",
              "    }\n",
              "    60% {\n",
              "      border-color: transparent;\n",
              "      border-right-color: var(--fill-color);\n",
              "    }\n",
              "    80% {\n",
              "      border-color: transparent;\n",
              "      border-right-color: var(--fill-color);\n",
              "      border-bottom-color: var(--fill-color);\n",
              "    }\n",
              "    90% {\n",
              "      border-color: transparent;\n",
              "      border-bottom-color: var(--fill-color);\n",
              "    }\n",
              "  }\n",
              "</style>\n",
              "\n",
              "  <script>\n",
              "    async function quickchart(key) {\n",
              "      const quickchartButtonEl =\n",
              "        document.querySelector('#' + key + ' button');\n",
              "      quickchartButtonEl.disabled = true;  // To prevent multiple clicks.\n",
              "      quickchartButtonEl.classList.add('colab-df-spinner');\n",
              "      try {\n",
              "        const charts = await google.colab.kernel.invokeFunction(\n",
              "            'suggestCharts', [key], {});\n",
              "      } catch (error) {\n",
              "        console.error('Error during call to suggestCharts:', error);\n",
              "      }\n",
              "      quickchartButtonEl.classList.remove('colab-df-spinner');\n",
              "      quickchartButtonEl.classList.add('colab-df-quickchart-complete');\n",
              "    }\n",
              "    (() => {\n",
              "      let quickchartButtonEl =\n",
              "        document.querySelector('#df-69827dd5-7d14-4d5f-b991-c3e6e7a21ada button');\n",
              "      quickchartButtonEl.style.display =\n",
              "        google.colab.kernel.accessAllowed ? 'block' : 'none';\n",
              "    })();\n",
              "  </script>\n",
              "</div>\n",
              "    </div>\n",
              "  </div>\n"
            ]
          },
          "metadata": {}
        }
      ]
    },
    {
      "cell_type": "markdown",
      "source": [
        "### Predicting the Test set results using unseen sample X_test and y_test\n"
      ],
      "metadata": {
        "id": "DgUG9llPOQ6v"
      }
    },
    {
      "cell_type": "code",
      "source": [
        "model_prediction = clf.predict(X_test)\n",
        "print(np.concatenate((y_test.reshape(len(y_test),1),model_prediction.reshape(len(model_prediction),1)),1))"
      ],
      "metadata": {
        "colab": {
          "base_uri": "https://localhost:8080/"
        },
        "id": "t0mxR0nQONFW",
        "outputId": "aa775bcb-8fac-4912-bc00-8f5da641aab5"
      },
      "execution_count": 123,
      "outputs": [
        {
          "output_type": "stream",
          "name": "stdout",
          "text": [
            "[['negative' 'negative']\n",
            " ['positive' 'positive']\n",
            " ['neutral' 'neutral']\n",
            " ['positive' 'positive']\n",
            " ['negative' 'negative']\n",
            " ['positive' 'negative']\n",
            " ['positive' 'positive']\n",
            " ['positive' 'positive']\n",
            " ['neutral' 'neutral']\n",
            " ['neutral' 'negative']\n",
            " ['neutral' 'negative']\n",
            " ['negative' 'positive']\n",
            " ['neutral' 'neutral']\n",
            " ['positive' 'positive']\n",
            " ['neutral' 'neutral']\n",
            " ['positive' 'positive']\n",
            " ['neutral' 'positive']\n",
            " ['positive' 'positive']\n",
            " ['negative' 'negative']\n",
            " ['negative' 'negative']\n",
            " ['positive' 'negative']\n",
            " ['neutral' 'positive']\n",
            " ['negative' 'neutral']\n",
            " ['positive' 'positive']\n",
            " ['neutral' 'negative']\n",
            " ['neutral' 'neutral']\n",
            " ['positive' 'positive']\n",
            " ['neutral' 'positive']\n",
            " ['negative' 'positive']\n",
            " ['negative' 'neutral']\n",
            " ['neutral' 'negative']\n",
            " ['positive' 'positive']\n",
            " ['positive' 'positive']\n",
            " ['positive' 'negative']\n",
            " ['positive' 'positive']\n",
            " ['positive' 'positive']\n",
            " ['neutral' 'neutral']\n",
            " ['neutral' 'neutral']\n",
            " ['neutral' 'positive']\n",
            " ['positive' 'positive']\n",
            " ['positive' 'positive']\n",
            " ['neutral' 'positive']\n",
            " ['neutral' 'neutral']\n",
            " ['negative' 'negative']\n",
            " ['neutral' 'neutral']\n",
            " ['positive' 'positive']\n",
            " ['negative' 'negative']\n",
            " ['positive' 'positive']\n",
            " ['neutral' 'neutral']\n",
            " ['negative' 'negative']\n",
            " ['negative' 'neutral']\n",
            " ['negative' 'negative']\n",
            " ['negative' 'negative']\n",
            " ['negative' 'negative']\n",
            " ['positive' 'neutral']\n",
            " ['positive' 'positive']\n",
            " ['positive' 'positive']\n",
            " ['neutral' 'positive']\n",
            " ['negative' 'negative']\n",
            " ['positive' 'positive']\n",
            " ['negative' 'positive']\n",
            " ['positive' 'negative']\n",
            " ['negative' 'negative']\n",
            " ['positive' 'positive']\n",
            " ['negative' 'negative']\n",
            " ['positive' 'neutral']\n",
            " ['neutral' 'neutral']\n",
            " ['negative' 'negative']\n",
            " ['negative' 'negative']\n",
            " ['neutral' 'neutral']\n",
            " ['negative' 'negative']\n",
            " ['negative' 'positive']\n",
            " ['neutral' 'negative']\n",
            " ['negative' 'negative']\n",
            " ['neutral' 'neutral']\n",
            " ['neutral' 'negative']\n",
            " ['positive' 'positive']\n",
            " ['negative' 'negative']\n",
            " ['positive' 'positive']\n",
            " ['positive' 'positive']\n",
            " ['neutral' 'neutral']\n",
            " ['neutral' 'negative']\n",
            " ['neutral' 'neutral']\n",
            " ['neutral' 'neutral']\n",
            " ['negative' 'negative']\n",
            " ['neutral' 'neutral']\n",
            " ['positive' 'neutral']\n",
            " ['neutral' 'neutral']\n",
            " ['positive' 'positive']\n",
            " ['negative' 'positive']\n",
            " ['neutral' 'positive']\n",
            " ['neutral' 'neutral']\n",
            " ['negative' 'neutral']\n",
            " ['neutral' 'neutral']\n",
            " ['positive' 'neutral']\n",
            " ['negative' 'negative']\n",
            " ['positive' 'neutral']\n",
            " ['neutral' 'positive']\n",
            " ['positive' 'neutral']\n",
            " ['positive' 'positive']]\n"
          ]
        }
      ]
    },
    {
      "cell_type": "code",
      "source": [
        "print(model_prediction)"
      ],
      "metadata": {
        "id": "08_cXCvtmczi",
        "outputId": "d1a59e04-acea-4bac-adc2-12b39a3e4a9a",
        "colab": {
          "base_uri": "https://localhost:8080/"
        }
      },
      "execution_count": 124,
      "outputs": [
        {
          "output_type": "stream",
          "name": "stdout",
          "text": [
            "['negative' 'positive' 'neutral' 'positive' 'negative' 'negative'\n",
            " 'positive' 'positive' 'neutral' 'negative' 'negative' 'positive'\n",
            " 'neutral' 'positive' 'neutral' 'positive' 'positive' 'positive'\n",
            " 'negative' 'negative' 'negative' 'positive' 'neutral' 'positive'\n",
            " 'negative' 'neutral' 'positive' 'positive' 'positive' 'neutral'\n",
            " 'negative' 'positive' 'positive' 'negative' 'positive' 'positive'\n",
            " 'neutral' 'neutral' 'positive' 'positive' 'positive' 'positive' 'neutral'\n",
            " 'negative' 'neutral' 'positive' 'negative' 'positive' 'neutral'\n",
            " 'negative' 'neutral' 'negative' 'negative' 'negative' 'neutral'\n",
            " 'positive' 'positive' 'positive' 'negative' 'positive' 'positive'\n",
            " 'negative' 'negative' 'positive' 'negative' 'neutral' 'neutral'\n",
            " 'negative' 'negative' 'neutral' 'negative' 'positive' 'negative'\n",
            " 'negative' 'neutral' 'negative' 'positive' 'negative' 'positive'\n",
            " 'positive' 'neutral' 'negative' 'neutral' 'neutral' 'negative' 'neutral'\n",
            " 'neutral' 'neutral' 'positive' 'positive' 'positive' 'neutral' 'neutral'\n",
            " 'neutral' 'neutral' 'negative' 'neutral' 'positive' 'neutral' 'positive']\n"
          ]
        }
      ]
    },
    {
      "cell_type": "markdown",
      "source": [
        "### Confusion Matrix for the Best Model Classifier for Sentiment Analysis - Gradient Boosting Classifier. Use this best model for Sentiment Analysis."
      ],
      "metadata": {
        "id": "8Jg4WwPHOY_G"
      }
    },
    {
      "cell_type": "code",
      "source": [
        "from sklearn.metrics import confusion_matrix, accuracy_score, ConfusionMatrixDisplay, f1_score\n",
        "from sklearn.metrics import classification_report\n",
        "\n",
        "labels = [\"Positive\", \"Neutral\", \"Negative\"]\n",
        "cm = confusion_matrix(y_test, model_prediction)\n",
        "\n",
        "disp = ConfusionMatrixDisplay(confusion_matrix=cm, display_labels = labels)\n",
        "disp.plot()\n",
        "\n",
        "accuracy = (accuracy_score(y_test, model_prediction))*100\n",
        "\n",
        "f1 = f1_score(model_prediction, y_test, average=\"weighted\")\n",
        "print(\"Accuracy: %.2f\" % accuracy)\n",
        "print(\"F1 Score:\", f1)\n",
        "print(classification_report(y_test, model_prediction))"
      ],
      "metadata": {
        "colab": {
          "base_uri": "https://localhost:8080/",
          "height": 657
        },
        "id": "UDdlt8gvOYeI",
        "outputId": "9fb69599-a0a1-439e-c1b5-7b97ae3e00d9"
      },
      "execution_count": 125,
      "outputs": [
        {
          "output_type": "stream",
          "name": "stdout",
          "text": [
            "Accuracy: 66.00\n",
            "F1 Score: 0.6616820512820513\n",
            "              precision    recall  f1-score   support\n",
            "\n",
            "    negative       0.65      0.69      0.67        29\n",
            "     neutral       0.67      0.57      0.62        35\n",
            "    positive       0.67      0.72      0.69        36\n",
            "\n",
            "    accuracy                           0.66       100\n",
            "   macro avg       0.66      0.66      0.66       100\n",
            "weighted avg       0.66      0.66      0.66       100\n",
            "\n"
          ]
        },
        {
          "output_type": "display_data",
          "data": {
            "text/plain": [
              "<Figure size 640x480 with 2 Axes>"
            ],
            "image/png": "[encoded data removed]"
          },
          "metadata": {}
        }
      ]
    },
    {
      "cell_type": "markdown",
      "source": [
        "Model Evaluation using Test Data"
      ],
      "metadata": {
        "id": "SG6138Z3E9lW"
      }
    },
    {
      "cell_type": "code",
      "source": [
        "print(\"Actual Value:\", (y_test[0]))\n",
        "print(\"Predicted Value:\", model_prediction[0])"
      ],
      "metadata": {
        "colab": {
          "base_uri": "https://localhost:8080/"
        },
        "id": "Cg5_4FjIie34",
        "outputId": "8ec8d371-9eb9-4def-9226-792463b366ff"
      },
      "execution_count": 126,
      "outputs": [
        {
          "output_type": "stream",
          "name": "stdout",
          "text": [
            "Actual Value: negative\n",
            "Predicted Value: negative\n"
          ]
        }
      ]
    },
    {
      "cell_type": "code",
      "source": [
        "print(\"Actual Value:\", y_test[2])\n",
        "print(\"Predicted Value:\", model_prediction[0])"
      ],
      "metadata": {
        "colab": {
          "base_uri": "https://localhost:8080/"
        },
        "id": "PxnFJJVDuNex",
        "outputId": "3ff913c1-8405-4a06-c975-811c80b45527"
      },
      "execution_count": 127,
      "outputs": [
        {
          "output_type": "stream",
          "name": "stdout",
          "text": [
            "Actual Value: neutral\n",
            "Predicted Value: negative\n"
          ]
        }
      ]
    },
    {
      "cell_type": "markdown",
      "source": [
        "# 1. Model Evaluation Using Input New Data"
      ],
      "metadata": {
        "id": "sWGNNLcuFE0V"
      }
    },
    {
      "cell_type": "code",
      "source": [
        "my_sentence = input('')\n",
        "print((my_sentence, model_prediction[0], \"Confidence_Score: %.2f\" % accuracy))"
      ],
      "metadata": {
        "colab": {
          "base_uri": "https://localhost:8080/"
        },
        "id": "KIh2Ng_wG3Fz",
        "outputId": "8bdbd05e-d218-4e87-c5f5-8880c28aadf8"
      },
      "execution_count": 128,
      "outputs": [
        {
          "output_type": "stream",
          "name": "stdout",
          "text": [
            "I hate going to that restaurant\n",
            "('I hate going to that restaurant', 'negative', 'Confidence_Score: 66.00')\n"
          ]
        }
      ]
    },
    {
      "cell_type": "code",
      "source": [
        "my_sentence = \"I love you\"\n",
        "print((my_sentence, model_prediction[0], \"Confidence_Score: %.2f\" % accuracy))"
      ],
      "metadata": {
        "colab": {
          "base_uri": "https://localhost:8080/"
        },
        "id": "wISRVbPGxPTZ",
        "outputId": "b2bc298e-b1a2-44f7-c892-697f787faaeb"
      },
      "execution_count": 129,
      "outputs": [
        {
          "output_type": "stream",
          "name": "stdout",
          "text": [
            "('I love you', 'negative', 'Confidence_Score: 66.00')\n"
          ]
        }
      ]
    },
    {
      "cell_type": "code",
      "source": [
        "my_sentence = \"Thats kind of annoying!\"\n",
        "print((my_sentence, model_prediction[0], \"Confidence_Score: %.2f\" % accuracy))"
      ],
      "metadata": {
        "colab": {
          "base_uri": "https://localhost:8080/"
        },
        "id": "h_bEmbEg3KVN",
        "outputId": "c708f8b6-9f4d-4326-9422-d56106e09487"
      },
      "execution_count": 130,
      "outputs": [
        {
          "output_type": "stream",
          "name": "stdout",
          "text": [
            "('Thats kind of annoying!', 'negative', 'Confidence_Score: 66.00')\n"
          ]
        }
      ]
    },
    {
      "cell_type": "code",
      "source": [
        "my_sentence = \"I hate spicy foods\"\n",
        "print((my_sentence, model_prediction[0], \"Confidence_Score: %.2f\" % accuracy))"
      ],
      "metadata": {
        "colab": {
          "base_uri": "https://localhost:8080/"
        },
        "id": "YEnpuY7o0OQ2",
        "outputId": "e1823da8-594a-49c7-d4c1-161ee5fc7a77"
      },
      "execution_count": 131,
      "outputs": [
        {
          "output_type": "stream",
          "name": "stdout",
          "text": [
            "('I hate spicy foods', 'negative', 'Confidence_Score: 66.00')\n"
          ]
        }
      ]
    },
    {
      "cell_type": "markdown",
      "source": [
        "## 2. Save the model prediction with output CSV data with ff. columns: text, expected_sentiment, model_output, confidence_score"
      ],
      "metadata": {
        "id": "YW2oL7nqnN25"
      }
    },
    {
      "cell_type": "markdown",
      "source": [
        "Load the sentiment_test_cases.csv"
      ],
      "metadata": {
        "id": "rOcyX8x12PJJ"
      }
    },
    {
      "cell_type": "code",
      "source": [
        "df = pd.read_csv('/content/drive/MyDrive/Technical Exam - Senior AI Machine Learning Engineer (2).zip (Unzipped Files)/sentiment_test_cases.csv')"
      ],
      "metadata": {
        "id": "YmHVLJj02OBJ"
      },
      "execution_count": 132,
      "outputs": []
    },
    {
      "cell_type": "code",
      "source": [
        "df.head(498)"
      ],
      "metadata": {
        "colab": {
          "base_uri": "https://localhost:8080/",
          "height": 424
        },
        "id": "tMZ3TSdM3U26",
        "outputId": "c91145bc-4fa6-4edb-e537-075c74adda2b"
      },
      "execution_count": 133,
      "outputs": [
        {
          "output_type": "execute_result",
          "data": {
            "text/plain": [
              "                                                  text expected_sentiment\n",
              "0    @stellargirl I loooooooovvvvvveee my Kindle2. ...           positive\n",
              "1    Reading my kindle2...  Love it... Lee childs i...           positive\n",
              "2    Ok, first assesment of the #kindle2 ...it fuck...           positive\n",
              "3    @kenburbary You'll love your Kindle2. I've had...           positive\n",
              "4    @mikefish  Fair enough. But i have the Kindle2...           positive\n",
              "..                                                 ...                ...\n",
              "493  Ask Programming: LaTeX or InDesign?: submitted...            neutral\n",
              "494  On that note, I hate Word. I hate Pages. I hat...           negative\n",
              "495  Ahhh... back in a *real* text editing environm...           positive\n",
              "496  Trouble in Iran, I see. Hmm. Iran. Iran so far...           negative\n",
              "497  Reading the tweets coming out of Iran... The w...           negative\n",
              "\n",
              "[498 rows x 2 columns]"
            ],
            "text/html": [
              "\n",
              "  <div id=\"df-b6ab534a-4020-4121-86e3-ce06cc5be824\" class=\"colab-df-container\">\n",
              "    <div>\n",
              "<style scoped>\n",
              "    .dataframe tbody tr th:only-of-type {\n",
              "        vertical-align: middle;\n",
              "    }\n",
              "\n",
              "    .dataframe tbody tr th {\n",
              "        vertical-align: top;\n",
              "    }\n",
              "\n",
              "    .dataframe thead th {\n",
              "        text-align: right;\n",
              "    }\n",
              "</style>\n",
              "<table border=\"1\" class=\"dataframe\">\n",
              "  <thead>\n",
              "    <tr style=\"text-align: right;\">\n",
              "      <th></th>\n",
              "      <th>text</th>\n",
              "      <th>expected_sentiment</th>\n",
              "    </tr>\n",
              "  </thead>\n",
              "  <tbody>\n",
              "    <tr>\n",
              "      <th>0</th>\n",
              "      <td>@stellargirl I loooooooovvvvvveee my Kindle2. ...</td>\n",
              "      <td>positive</td>\n",
              "    </tr>\n",
              "    <tr>\n",
              "      <th>1</th>\n",
              "      <td>Reading my kindle2...  Love it... Lee childs i...</td>\n",
              "      <td>positive</td>\n",
              "    </tr>\n",
              "    <tr>\n",
              "      <th>2</th>\n",
              "      <td>Ok, first assesment of the #kindle2 ...it fuck...</td>\n",
              "      <td>positive</td>\n",
              "    </tr>\n",
              "    <tr>\n",
              "      <th>3</th>\n",
              "      <td>@kenburbary You'll love your Kindle2. I've had...</td>\n",
              "      <td>positive</td>\n",
              "    </tr>\n",
              "    <tr>\n",
              "      <th>4</th>\n",
              "      <td>@mikefish  Fair enough. But i have the Kindle2...</td>\n",
              "      <td>positive</td>\n",
              "    </tr>\n",
              "    <tr>\n",
              "      <th>...</th>\n",
              "      <td>...</td>\n",
              "      <td>...</td>\n",
              "    </tr>\n",
              "    <tr>\n",
              "      <th>493</th>\n",
              "      <td>Ask Programming: LaTeX or InDesign?: submitted...</td>\n",
              "      <td>neutral</td>\n",
              "    </tr>\n",
              "    <tr>\n",
              "      <th>494</th>\n",
              "      <td>On that note, I hate Word. I hate Pages. I hat...</td>\n",
              "      <td>negative</td>\n",
              "    </tr>\n",
              "    <tr>\n",
              "      <th>495</th>\n",
              "      <td>Ahhh... back in a *real* text editing environm...</td>\n",
              "      <td>positive</td>\n",
              "    </tr>\n",
              "    <tr>\n",
              "      <th>496</th>\n",
              "      <td>Trouble in Iran, I see. Hmm. Iran. Iran so far...</td>\n",
              "      <td>negative</td>\n",
              "    </tr>\n",
              "    <tr>\n",
              "      <th>497</th>\n",
              "      <td>Reading the tweets coming out of Iran... The w...</td>\n",
              "      <td>negative</td>\n",
              "    </tr>\n",
              "  </tbody>\n",
              "</table>\n",
              "<p>498 rows × 2 columns</p>\n",
              "</div>\n",
              "    <div class=\"colab-df-buttons\">\n",
              "\n",
              "  <div class=\"colab-df-container\">\n",
              "    <button class=\"colab-df-convert\" onclick=\"convertToInteractive('df-b6ab534a-4020-4121-86e3-ce06cc5be824')\"\n",
              "            title=\"Convert this dataframe to an interactive table.\"\n",
              "            style=\"display:none;\">\n",
              "\n",
              "  <svg xmlns=\"http://www.w3.org/2000/svg\" height=\"24px\" viewBox=\"0 -960 960 960\">\n",
              "    <path d=\"M120-120v-720h720v720H120Zm60-500h600v-160H180v160Zm220 220h160v-160H400v160Zm0 220h160v-160H400v160ZM180-400h160v-160H180v160Zm440 0h160v-160H620v160ZM180-180h160v-160H180v160Zm440 0h160v-160H620v160Z\"/>\n",
              "  </svg>\n",
              "    </button>\n",
              "\n",
              "  <style>\n",
              "    .colab-df-container {\n",
              "      display:flex;\n",
              "      gap: 12px;\n",
              "    }\n",
              "\n",
              "    .colab-df-convert {\n",
              "      background-color: #E8F0FE;\n",
              "      border: none;\n",
              "      border-radius: 50%;\n",
              "      cursor: pointer;\n",
              "      display: none;\n",
              "      fill: #1967D2;\n",
              "      height: 32px;\n",
              "      padding: 0 0 0 0;\n",
              "      width: 32px;\n",
              "    }\n",
              "\n",
              "    .colab-df-convert:hover {\n",
              "      background-color: #E2EBFA;\n",
              "      box-shadow: 0px 1px 2px rgba(60, 64, 67, 0.3), 0px 1px 3px 1px rgba(60, 64, 67, 0.15);\n",
              "      fill: #174EA6;\n",
              "    }\n",
              "\n",
              "    .colab-df-buttons div {\n",
              "      margin-bottom: 4px;\n",
              "    }\n",
              "\n",
              "    [theme=dark] .colab-df-convert {\n",
              "      background-color: #3B4455;\n",
              "      fill: #D2E3FC;\n",
              "    }\n",
              "\n",
              "    [theme=dark] .colab-df-convert:hover {\n",
              "      background-color: #434B5C;\n",
              "      box-shadow: 0px 1px 3px 1px rgba(0, 0, 0, 0.15);\n",
              "      filter: drop-shadow(0px 1px 2px rgba(0, 0, 0, 0.3));\n",
              "      fill: #FFFFFF;\n",
              "    }\n",
              "  </style>\n",
              "\n",
              "    <script>\n",
              "      const buttonEl =\n",
              "        document.querySelector('#df-b6ab534a-4020-4121-86e3-ce06cc5be824 button.colab-df-convert');\n",
              "      buttonEl.style.display =\n",
              "        google.colab.kernel.accessAllowed ? 'block' : 'none';\n",
              "\n",
              "      async function convertToInteractive(key) {\n",
              "        const element = document.querySelector('#df-b6ab534a-4020-4121-86e3-ce06cc5be824');\n",
              "        const dataTable =\n",
              "          await google.colab.kernel.invokeFunction('convertToInteractive',\n",
              "                                                    [key], {});\n",
              "        if (!dataTable) return;\n",
              "\n",
              "        const docLinkHtml = 'Like what you see? Visit the ' +\n",
              "          '<a target=\"_blank\" href=https://colab.research.google.com/notebooks/data_table.ipynb>data table notebook</a>'\n",
              "          + ' to learn more about interactive tables.';\n",
              "        element.innerHTML = '';\n",
              "        dataTable['output_type'] = 'display_data';\n",
              "        await google.colab.output.renderOutput(dataTable, element);\n",
              "        const docLink = document.createElement('div');\n",
              "        docLink.innerHTML = docLinkHtml;\n",
              "        element.appendChild(docLink);\n",
              "      }\n",
              "    </script>\n",
              "  </div>\n",
              "\n",
              "\n",
              "<div id=\"df-46839064-a413-4a02-9333-1b6d022c2632\">\n",
              "  <button class=\"colab-df-quickchart\" onclick=\"quickchart('df-46839064-a413-4a02-9333-1b6d022c2632')\"\n",
              "            title=\"Suggest charts\"\n",
              "            style=\"display:none;\">\n",
              "\n",
              "<svg xmlns=\"http://www.w3.org/2000/svg\" height=\"24px\"viewBox=\"0 0 24 24\"\n",
              "     width=\"24px\">\n",
              "    <g>\n",
              "        <path d=\"M19 3H5c-1.1 0-2 .9-2 2v14c0 1.1.9 2 2 2h14c1.1 0 2-.9 2-2V5c0-1.1-.9-2-2-2zM9 17H7v-7h2v7zm4 0h-2V7h2v10zm4 0h-2v-4h2v4z\"/>\n",
              "    </g>\n",
              "</svg>\n",
              "  </button>\n",
              "\n",
              "<style>\n",
              "  .colab-df-quickchart {\n",
              "      --bg-color: #E8F0FE;\n",
              "      --fill-color: #1967D2;\n",
              "      --hover-bg-color: #E2EBFA;\n",
              "      --hover-fill-color: #174EA6;\n",
              "      --disabled-fill-color: #AAA;\n",
              "      --disabled-bg-color: #DDD;\n",
              "  }\n",
              "\n",
              "  [theme=dark] .colab-df-quickchart {\n",
              "      --bg-color: #3B4455;\n",
              "      --fill-color: #D2E3FC;\n",
              "      --hover-bg-color: #434B5C;\n",
              "      --hover-fill-color: #FFFFFF;\n",
              "      --disabled-bg-color: #3B4455;\n",
              "      --disabled-fill-color: #666;\n",
              "  }\n",
              "\n",
              "  .colab-df-quickchart {\n",
              "    background-color: var(--bg-color);\n",
              "    border: none;\n",
              "    border-radius: 50%;\n",
              "    cursor: pointer;\n",
              "    display: none;\n",
              "    fill: var(--fill-color);\n",
              "    height: 32px;\n",
              "    padding: 0;\n",
              "    width: 32px;\n",
              "  }\n",
              "\n",
              "  .colab-df-quickchart:hover {\n",
              "    background-color: var(--hover-bg-color);\n",
              "    box-shadow: 0 1px 2px rgba(60, 64, 67, 0.3), 0 1px 3px 1px rgba(60, 64, 67, 0.15);\n",
              "    fill: var(--button-hover-fill-color);\n",
              "  }\n",
              "\n",
              "  .colab-df-quickchart-complete:disabled,\n",
              "  .colab-df-quickchart-complete:disabled:hover {\n",
              "    background-color: var(--disabled-bg-color);\n",
              "    fill: var(--disabled-fill-color);\n",
              "    box-shadow: none;\n",
              "  }\n",
              "\n",
              "  .colab-df-spinner {\n",
              "    border: 2px solid var(--fill-color);\n",
              "    border-color: transparent;\n",
              "    border-bottom-color: var(--fill-color);\n",
              "    animation:\n",
              "      spin 1s steps(1) infinite;\n",
              "  }\n",
              "\n",
              "  @keyframes spin {\n",
              "    0% {\n",
              "      border-color: transparent;\n",
              "      border-bottom-color: var(--fill-color);\n",
              "      border-left-color: var(--fill-color);\n",
              "    }\n",
              "    20% {\n",
              "      border-color: transparent;\n",
              "      border-left-color: var(--fill-color);\n",
              "      border-top-color: var(--fill-color);\n",
              "    }\n",
              "    30% {\n",
              "      border-color: transparent;\n",
              "      border-left-color: var(--fill-color);\n",
              "      border-top-color: var(--fill-color);\n",
              "      border-right-color: var(--fill-color);\n",
              "    }\n",
              "    40% {\n",
              "      border-color: transparent;\n",
              "      border-right-color: var(--fill-color);\n",
              "      border-top-color: var(--fill-color);\n",
              "    }\n",
              "    60% {\n",
              "      border-color: transparent;\n",
              "      border-right-color: var(--fill-color);\n",
              "    }\n",
              "    80% {\n",
              "      border-color: transparent;\n",
              "      border-right-color: var(--fill-color);\n",
              "      border-bottom-color: var(--fill-color);\n",
              "    }\n",
              "    90% {\n",
              "      border-color: transparent;\n",
              "      border-bottom-color: var(--fill-color);\n",
              "    }\n",
              "  }\n",
              "</style>\n",
              "\n",
              "  <script>\n",
              "    async function quickchart(key) {\n",
              "      const quickchartButtonEl =\n",
              "        document.querySelector('#' + key + ' button');\n",
              "      quickchartButtonEl.disabled = true;  // To prevent multiple clicks.\n",
              "      quickchartButtonEl.classList.add('colab-df-spinner');\n",
              "      try {\n",
              "        const charts = await google.colab.kernel.invokeFunction(\n",
              "            'suggestCharts', [key], {});\n",
              "      } catch (error) {\n",
              "        console.error('Error during call to suggestCharts:', error);\n",
              "      }\n",
              "      quickchartButtonEl.classList.remove('colab-df-spinner');\n",
              "      quickchartButtonEl.classList.add('colab-df-quickchart-complete');\n",
              "    }\n",
              "    (() => {\n",
              "      let quickchartButtonEl =\n",
              "        document.querySelector('#df-46839064-a413-4a02-9333-1b6d022c2632 button');\n",
              "      quickchartButtonEl.style.display =\n",
              "        google.colab.kernel.accessAllowed ? 'block' : 'none';\n",
              "    })();\n",
              "  </script>\n",
              "</div>\n",
              "    </div>\n",
              "  </div>\n"
            ]
          },
          "metadata": {},
          "execution_count": 133
        }
      ]
    },
    {
      "cell_type": "code",
      "source": [
        "X = df['text']"
      ],
      "metadata": {
        "id": "PHJTZ5iLk6WQ"
      },
      "execution_count": 134,
      "outputs": []
    },
    {
      "cell_type": "code",
      "source": [
        "print(X)"
      ],
      "metadata": {
        "colab": {
          "base_uri": "https://localhost:8080/"
        },
        "id": "TXKfgEUIA7No",
        "outputId": "9135d4ad-15b9-42c5-88a0-53c6da0a7750"
      },
      "execution_count": 135,
      "outputs": [
        {
          "output_type": "stream",
          "name": "stdout",
          "text": [
            "0      @stellargirl I loooooooovvvvvveee my Kindle2. ...\n",
            "1      Reading my kindle2...  Love it... Lee childs i...\n",
            "2      Ok, first assesment of the #kindle2 ...it fuck...\n",
            "3      @kenburbary You'll love your Kindle2. I've had...\n",
            "4      @mikefish  Fair enough. But i have the Kindle2...\n",
            "                             ...                        \n",
            "493    Ask Programming: LaTeX or InDesign?: submitted...\n",
            "494    On that note, I hate Word. I hate Pages. I hat...\n",
            "495    Ahhh... back in a *real* text editing environm...\n",
            "496    Trouble in Iran, I see. Hmm. Iran. Iran so far...\n",
            "497    Reading the tweets coming out of Iran... The w...\n",
            "Name: text, Length: 498, dtype: object\n"
          ]
        }
      ]
    },
    {
      "cell_type": "code",
      "source": [
        "y = df['expected_sentiment']"
      ],
      "metadata": {
        "id": "lJ4FFWiBlCSI"
      },
      "execution_count": 136,
      "outputs": []
    },
    {
      "cell_type": "code",
      "source": [
        "print(y)"
      ],
      "metadata": {
        "id": "ogQySZalkNn3",
        "outputId": "55fb7e4d-9a1e-4116-e9f9-3e8e0009bf38",
        "colab": {
          "base_uri": "https://localhost:8080/"
        }
      },
      "execution_count": 137,
      "outputs": [
        {
          "output_type": "stream",
          "name": "stdout",
          "text": [
            "0      positive\n",
            "1      positive\n",
            "2      positive\n",
            "3      positive\n",
            "4      positive\n",
            "         ...   \n",
            "493     neutral\n",
            "494    negative\n",
            "495    positive\n",
            "496    negative\n",
            "497    negative\n",
            "Name: expected_sentiment, Length: 498, dtype: object\n"
          ]
        }
      ]
    },
    {
      "cell_type": "code",
      "source": [
        "df = {'text':[X], 'expected_sentiment':[y], 'model_output':[model_prediction], 'confidence_score':[accuracy]}"
      ],
      "metadata": {
        "id": "skXdhIsinWgM"
      },
      "execution_count": 138,
      "outputs": []
    },
    {
      "cell_type": "code",
      "source": [
        "df"
      ],
      "metadata": {
        "id": "7Pj7V2VPol8i",
        "outputId": "267e9ce5-ca5d-4842-c049-40e61d29a8ee",
        "colab": {
          "base_uri": "https://localhost:8080/"
        }
      },
      "execution_count": 139,
      "outputs": [
        {
          "output_type": "execute_result",
          "data": {
            "text/plain": [
              "{'text': [0      @stellargirl I loooooooovvvvvveee my Kindle2. ...\n",
              "  1      Reading my kindle2...  Love it... Lee childs i...\n",
              "  2      Ok, first assesment of the #kindle2 ...it fuck...\n",
              "  3      @kenburbary You'll love your Kindle2. I've had...\n",
              "  4      @mikefish  Fair enough. But i have the Kindle2...\n",
              "                               ...                        \n",
              "  493    Ask Programming: LaTeX or InDesign?: submitted...\n",
              "  494    On that note, I hate Word. I hate Pages. I hat...\n",
              "  495    Ahhh... back in a *real* text editing environm...\n",
              "  496    Trouble in Iran, I see. Hmm. Iran. Iran so far...\n",
              "  497    Reading the tweets coming out of Iran... The w...\n",
              "  Name: text, Length: 498, dtype: object],\n",
              " 'expected_sentiment': [0      positive\n",
              "  1      positive\n",
              "  2      positive\n",
              "  3      positive\n",
              "  4      positive\n",
              "           ...   \n",
              "  493     neutral\n",
              "  494    negative\n",
              "  495    positive\n",
              "  496    negative\n",
              "  497    negative\n",
              "  Name: expected_sentiment, Length: 498, dtype: object],\n",
              " 'model_output': [array(['negative', 'positive', 'neutral', 'positive', 'negative',\n",
              "         'negative', 'positive', 'positive', 'neutral', 'negative',\n",
              "         'negative', 'positive', 'neutral', 'positive', 'neutral',\n",
              "         'positive', 'positive', 'positive', 'negative', 'negative',\n",
              "         'negative', 'positive', 'neutral', 'positive', 'negative',\n",
              "         'neutral', 'positive', 'positive', 'positive', 'neutral',\n",
              "         'negative', 'positive', 'positive', 'negative', 'positive',\n",
              "         'positive', 'neutral', 'neutral', 'positive', 'positive',\n",
              "         'positive', 'positive', 'neutral', 'negative', 'neutral',\n",
              "         'positive', 'negative', 'positive', 'neutral', 'negative',\n",
              "         'neutral', 'negative', 'negative', 'negative', 'neutral',\n",
              "         'positive', 'positive', 'positive', 'negative', 'positive',\n",
              "         'positive', 'negative', 'negative', 'positive', 'negative',\n",
              "         'neutral', 'neutral', 'negative', 'negative', 'neutral',\n",
              "         'negative', 'positive', 'negative', 'negative', 'neutral',\n",
              "         'negative', 'positive', 'negative', 'positive', 'positive',\n",
              "         'neutral', 'negative', 'neutral', 'neutral', 'negative', 'neutral',\n",
              "         'neutral', 'neutral', 'positive', 'positive', 'positive',\n",
              "         'neutral', 'neutral', 'neutral', 'neutral', 'negative', 'neutral',\n",
              "         'positive', 'neutral', 'positive'], dtype=object)],\n",
              " 'confidence_score': [66.0]}"
            ]
          },
          "metadata": {},
          "execution_count": 139
        }
      ]
    },
    {
      "cell_type": "code",
      "source": [
        "saved_model_with_prediction = pd.DataFrame(df)"
      ],
      "metadata": {
        "id": "lRV8MC3AN6Cy"
      },
      "execution_count": 140,
      "outputs": []
    },
    {
      "cell_type": "code",
      "source": [
        "saved_model_with_prediction.head()"
      ],
      "metadata": {
        "colab": {
          "base_uri": "https://localhost:8080/",
          "height": 392
        },
        "id": "6ekqcHKGDIDP",
        "outputId": "b80c7b1c-b58c-4ccb-e0dd-232dee958c3c"
      },
      "execution_count": 141,
      "outputs": [
        {
          "output_type": "execute_result",
          "data": {
            "text/plain": [
              "                                                text  \\\n",
              "0  0      @stellargirl I loooooooovvvvvveee my Ki...   \n",
              "\n",
              "                                  expected_sentiment  \\\n",
              "0  0      positive\n",
              "1      positive\n",
              "2      positiv...   \n",
              "\n",
              "                                        model_output  confidence_score  \n",
              "0  [negative, positive, neutral, positive, negati...              66.0  "
            ],
            "text/html": [
              "\n",
              "  <div id=\"df-24c3d448-f806-49df-9620-a694071d80cd\" class=\"colab-df-container\">\n",
              "    <div>\n",
              "<style scoped>\n",
              "    .dataframe tbody tr th:only-of-type {\n",
              "        vertical-align: middle;\n",
              "    }\n",
              "\n",
              "    .dataframe tbody tr th {\n",
              "        vertical-align: top;\n",
              "    }\n",
              "\n",
              "    .dataframe thead th {\n",
              "        text-align: right;\n",
              "    }\n",
              "</style>\n",
              "<table border=\"1\" class=\"dataframe\">\n",
              "  <thead>\n",
              "    <tr style=\"text-align: right;\">\n",
              "      <th></th>\n",
              "      <th>text</th>\n",
              "      <th>expected_sentiment</th>\n",
              "      <th>model_output</th>\n",
              "      <th>confidence_score</th>\n",
              "    </tr>\n",
              "  </thead>\n",
              "  <tbody>\n",
              "    <tr>\n",
              "      <th>0</th>\n",
              "      <td>0      @stellargirl I loooooooovvvvvveee my Ki...</td>\n",
              "      <td>0      positive\n",
              "1      positive\n",
              "2      positiv...</td>\n",
              "      <td>[negative, positive, neutral, positive, negati...</td>\n",
              "      <td>66.0</td>\n",
              "    </tr>\n",
              "  </tbody>\n",
              "</table>\n",
              "</div>\n",
              "    <div class=\"colab-df-buttons\">\n",
              "\n",
              "  <div class=\"colab-df-container\">\n",
              "    <button class=\"colab-df-convert\" onclick=\"convertToInteractive('df-24c3d448-f806-49df-9620-a694071d80cd')\"\n",
              "            title=\"Convert this dataframe to an interactive table.\"\n",
              "            style=\"display:none;\">\n",
              "\n",
              "  <svg xmlns=\"http://www.w3.org/2000/svg\" height=\"24px\" viewBox=\"0 -960 960 960\">\n",
              "    <path d=\"M120-120v-720h720v720H120Zm60-500h600v-160H180v160Zm220 220h160v-160H400v160Zm0 220h160v-160H400v160ZM180-400h160v-160H180v160Zm440 0h160v-160H620v160ZM180-180h160v-160H180v160Zm440 0h160v-160H620v160Z\"/>\n",
              "  </svg>\n",
              "    </button>\n",
              "\n",
              "  <style>\n",
              "    .colab-df-container {\n",
              "      display:flex;\n",
              "      gap: 12px;\n",
              "    }\n",
              "\n",
              "    .colab-df-convert {\n",
              "      background-color: #E8F0FE;\n",
              "      border: none;\n",
              "      border-radius: 50%;\n",
              "      cursor: pointer;\n",
              "      display: none;\n",
              "      fill: #1967D2;\n",
              "      height: 32px;\n",
              "      padding: 0 0 0 0;\n",
              "      width: 32px;\n",
              "    }\n",
              "\n",
              "    .colab-df-convert:hover {\n",
              "      background-color: #E2EBFA;\n",
              "      box-shadow: 0px 1px 2px rgba(60, 64, 67, 0.3), 0px 1px 3px 1px rgba(60, 64, 67, 0.15);\n",
              "      fill: #174EA6;\n",
              "    }\n",
              "\n",
              "    .colab-df-buttons div {\n",
              "      margin-bottom: 4px;\n",
              "    }\n",
              "\n",
              "    [theme=dark] .colab-df-convert {\n",
              "      background-color: #3B4455;\n",
              "      fill: #D2E3FC;\n",
              "    }\n",
              "\n",
              "    [theme=dark] .colab-df-convert:hover {\n",
              "      background-color: #434B5C;\n",
              "      box-shadow: 0px 1px 3px 1px rgba(0, 0, 0, 0.15);\n",
              "      filter: drop-shadow(0px 1px 2px rgba(0, 0, 0, 0.3));\n",
              "      fill: #FFFFFF;\n",
              "    }\n",
              "  </style>\n",
              "\n",
              "    <script>\n",
              "      const buttonEl =\n",
              "        document.querySelector('#df-24c3d448-f806-49df-9620-a694071d80cd button.colab-df-convert');\n",
              "      buttonEl.style.display =\n",
              "        google.colab.kernel.accessAllowed ? 'block' : 'none';\n",
              "\n",
              "      async function convertToInteractive(key) {\n",
              "        const element = document.querySelector('#df-24c3d448-f806-49df-9620-a694071d80cd');\n",
              "        const dataTable =\n",
              "          await google.colab.kernel.invokeFunction('convertToInteractive',\n",
              "                                                    [key], {});\n",
              "        if (!dataTable) return;\n",
              "\n",
              "        const docLinkHtml = 'Like what you see? Visit the ' +\n",
              "          '<a target=\"_blank\" href=https://colab.research.google.com/notebooks/data_table.ipynb>data table notebook</a>'\n",
              "          + ' to learn more about interactive tables.';\n",
              "        element.innerHTML = '';\n",
              "        dataTable['output_type'] = 'display_data';\n",
              "        await google.colab.output.renderOutput(dataTable, element);\n",
              "        const docLink = document.createElement('div');\n",
              "        docLink.innerHTML = docLinkHtml;\n",
              "        element.appendChild(docLink);\n",
              "      }\n",
              "    </script>\n",
              "  </div>\n",
              "\n",
              "    </div>\n",
              "  </div>\n"
            ]
          },
          "metadata": {},
          "execution_count": 141
        }
      ]
    },
    {
      "cell_type": "code",
      "source": [
        "# Todo process each row of csv files and make prediction using saved model prediction\n",
        "#def process_row(row):\n",
        "  #return f\"text:{row['text']}, expected_sentiment: {row['expected_sentiment']}, model_output: {row['model_prediction']}, confidence_score: {row['accuracy']}\"\n",
        "\n",
        "#saved_model_with_prediction = df.apply(lambda row: process_row(row), axis=1)\n"
      ],
      "metadata": {
        "id": "VJ_nD_a3k9lj"
      },
      "execution_count": 145,
      "outputs": []
    },
    {
      "cell_type": "code",
      "source": [
        "saved_model_with_prediction= pd.DataFrame(saved_model_with_prediction, columns=['text','expected_sentiment','model_output','confidence_score']).to_csv('/content/drive/MyDrive/Technical Exam - Senior AI Machine Learning Engineer (2).zip (Unzipped Files)/output_sentiment_test.csv', index=False)"
      ],
      "metadata": {
        "id": "_adjfgiiGF-l"
      },
      "execution_count": 146,
      "outputs": []
    }
  ]
}